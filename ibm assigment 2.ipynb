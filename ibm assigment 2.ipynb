{
  "cells": [
    {
      "cell_type": "markdown",
      "metadata": {
        "id": "view-in-github",
        "colab_type": "text"
      },
      "source": [
        "<a href=\"https://colab.research.google.com/github/Bharathsujay/ibm-applied-data-science/blob/main/ibm%20assigment%202.ipynb\" target=\"_parent\"><img src=\"https://colab.research.google.com/assets/colab-badge.svg\" alt=\"Open In Colab\"/></a>"
      ]
    },
    {
      "cell_type": "code",
      "execution_count": 30,
      "metadata": {
        "id": "XPFPATcPVwyd"
      },
      "outputs": [],
      "source": [
        "import numpy as np\n",
        "import pandas as pd\n",
        "import matplotlib.pyplot as plt\n",
        "import seaborn as sns"
      ]
    },
    {
      "cell_type": "markdown",
      "source": [
        "LOADING THE DATASET"
      ],
      "metadata": {
        "id": "prstVYbj9eh2"
      }
    },
    {
      "cell_type": "code",
      "execution_count": 31,
      "metadata": {
        "id": "7suR0rXbV9g9"
      },
      "outputs": [],
      "source": [
        "df=pd.read_csv('/content/Housing.csv')"
      ]
    },
    {
      "cell_type": "code",
      "execution_count": 32,
      "metadata": {
        "colab": {
          "base_uri": "https://localhost:8080/",
          "height": 270
        },
        "id": "DUyvjBz2V-83",
        "outputId": "fc59133e-6900-490a-978a-dd6ebc53441c"
      },
      "outputs": [
        {
          "output_type": "execute_result",
          "data": {
            "text/plain": [
              "      price  area  bedrooms  bathrooms  stories mainroad guestroom basement  \\\n",
              "0  13300000  7420         4          2        3      yes        no       no   \n",
              "1  12250000  8960         4          4        4      yes        no       no   \n",
              "2  12250000  9960         3          2        2      yes        no      yes   \n",
              "3  12215000  7500         4          2        2      yes        no      yes   \n",
              "4  11410000  7420         4          1        2      yes       yes      yes   \n",
              "\n",
              "  hotwaterheating airconditioning  parking furnishingstatus  \n",
              "0              no             yes        2        furnished  \n",
              "1              no             yes        3        furnished  \n",
              "2              no              no        2   semi-furnished  \n",
              "3              no             yes        3        furnished  \n",
              "4              no             yes        2        furnished  "
            ],
            "text/html": [
              "\n",
              "  <div id=\"df-2978cfca-a7d7-4005-b5a9-53852e7f4a7a\">\n",
              "    <div class=\"colab-df-container\">\n",
              "      <div>\n",
              "<style scoped>\n",
              "    .dataframe tbody tr th:only-of-type {\n",
              "        vertical-align: middle;\n",
              "    }\n",
              "\n",
              "    .dataframe tbody tr th {\n",
              "        vertical-align: top;\n",
              "    }\n",
              "\n",
              "    .dataframe thead th {\n",
              "        text-align: right;\n",
              "    }\n",
              "</style>\n",
              "<table border=\"1\" class=\"dataframe\">\n",
              "  <thead>\n",
              "    <tr style=\"text-align: right;\">\n",
              "      <th></th>\n",
              "      <th>price</th>\n",
              "      <th>area</th>\n",
              "      <th>bedrooms</th>\n",
              "      <th>bathrooms</th>\n",
              "      <th>stories</th>\n",
              "      <th>mainroad</th>\n",
              "      <th>guestroom</th>\n",
              "      <th>basement</th>\n",
              "      <th>hotwaterheating</th>\n",
              "      <th>airconditioning</th>\n",
              "      <th>parking</th>\n",
              "      <th>furnishingstatus</th>\n",
              "    </tr>\n",
              "  </thead>\n",
              "  <tbody>\n",
              "    <tr>\n",
              "      <th>0</th>\n",
              "      <td>13300000</td>\n",
              "      <td>7420</td>\n",
              "      <td>4</td>\n",
              "      <td>2</td>\n",
              "      <td>3</td>\n",
              "      <td>yes</td>\n",
              "      <td>no</td>\n",
              "      <td>no</td>\n",
              "      <td>no</td>\n",
              "      <td>yes</td>\n",
              "      <td>2</td>\n",
              "      <td>furnished</td>\n",
              "    </tr>\n",
              "    <tr>\n",
              "      <th>1</th>\n",
              "      <td>12250000</td>\n",
              "      <td>8960</td>\n",
              "      <td>4</td>\n",
              "      <td>4</td>\n",
              "      <td>4</td>\n",
              "      <td>yes</td>\n",
              "      <td>no</td>\n",
              "      <td>no</td>\n",
              "      <td>no</td>\n",
              "      <td>yes</td>\n",
              "      <td>3</td>\n",
              "      <td>furnished</td>\n",
              "    </tr>\n",
              "    <tr>\n",
              "      <th>2</th>\n",
              "      <td>12250000</td>\n",
              "      <td>9960</td>\n",
              "      <td>3</td>\n",
              "      <td>2</td>\n",
              "      <td>2</td>\n",
              "      <td>yes</td>\n",
              "      <td>no</td>\n",
              "      <td>yes</td>\n",
              "      <td>no</td>\n",
              "      <td>no</td>\n",
              "      <td>2</td>\n",
              "      <td>semi-furnished</td>\n",
              "    </tr>\n",
              "    <tr>\n",
              "      <th>3</th>\n",
              "      <td>12215000</td>\n",
              "      <td>7500</td>\n",
              "      <td>4</td>\n",
              "      <td>2</td>\n",
              "      <td>2</td>\n",
              "      <td>yes</td>\n",
              "      <td>no</td>\n",
              "      <td>yes</td>\n",
              "      <td>no</td>\n",
              "      <td>yes</td>\n",
              "      <td>3</td>\n",
              "      <td>furnished</td>\n",
              "    </tr>\n",
              "    <tr>\n",
              "      <th>4</th>\n",
              "      <td>11410000</td>\n",
              "      <td>7420</td>\n",
              "      <td>4</td>\n",
              "      <td>1</td>\n",
              "      <td>2</td>\n",
              "      <td>yes</td>\n",
              "      <td>yes</td>\n",
              "      <td>yes</td>\n",
              "      <td>no</td>\n",
              "      <td>yes</td>\n",
              "      <td>2</td>\n",
              "      <td>furnished</td>\n",
              "    </tr>\n",
              "  </tbody>\n",
              "</table>\n",
              "</div>\n",
              "      <button class=\"colab-df-convert\" onclick=\"convertToInteractive('df-2978cfca-a7d7-4005-b5a9-53852e7f4a7a')\"\n",
              "              title=\"Convert this dataframe to an interactive table.\"\n",
              "              style=\"display:none;\">\n",
              "        \n",
              "  <svg xmlns=\"http://www.w3.org/2000/svg\" height=\"24px\"viewBox=\"0 0 24 24\"\n",
              "       width=\"24px\">\n",
              "    <path d=\"M0 0h24v24H0V0z\" fill=\"none\"/>\n",
              "    <path d=\"M18.56 5.44l.94 2.06.94-2.06 2.06-.94-2.06-.94-.94-2.06-.94 2.06-2.06.94zm-11 1L8.5 8.5l.94-2.06 2.06-.94-2.06-.94L8.5 2.5l-.94 2.06-2.06.94zm10 10l.94 2.06.94-2.06 2.06-.94-2.06-.94-.94-2.06-.94 2.06-2.06.94z\"/><path d=\"M17.41 7.96l-1.37-1.37c-.4-.4-.92-.59-1.43-.59-.52 0-1.04.2-1.43.59L10.3 9.45l-7.72 7.72c-.78.78-.78 2.05 0 2.83L4 21.41c.39.39.9.59 1.41.59.51 0 1.02-.2 1.41-.59l7.78-7.78 2.81-2.81c.8-.78.8-2.07 0-2.86zM5.41 20L4 18.59l7.72-7.72 1.47 1.35L5.41 20z\"/>\n",
              "  </svg>\n",
              "      </button>\n",
              "      \n",
              "  <style>\n",
              "    .colab-df-container {\n",
              "      display:flex;\n",
              "      flex-wrap:wrap;\n",
              "      gap: 12px;\n",
              "    }\n",
              "\n",
              "    .colab-df-convert {\n",
              "      background-color: #E8F0FE;\n",
              "      border: none;\n",
              "      border-radius: 50%;\n",
              "      cursor: pointer;\n",
              "      display: none;\n",
              "      fill: #1967D2;\n",
              "      height: 32px;\n",
              "      padding: 0 0 0 0;\n",
              "      width: 32px;\n",
              "    }\n",
              "\n",
              "    .colab-df-convert:hover {\n",
              "      background-color: #E2EBFA;\n",
              "      box-shadow: 0px 1px 2px rgba(60, 64, 67, 0.3), 0px 1px 3px 1px rgba(60, 64, 67, 0.15);\n",
              "      fill: #174EA6;\n",
              "    }\n",
              "\n",
              "    [theme=dark] .colab-df-convert {\n",
              "      background-color: #3B4455;\n",
              "      fill: #D2E3FC;\n",
              "    }\n",
              "\n",
              "    [theme=dark] .colab-df-convert:hover {\n",
              "      background-color: #434B5C;\n",
              "      box-shadow: 0px 1px 3px 1px rgba(0, 0, 0, 0.15);\n",
              "      filter: drop-shadow(0px 1px 2px rgba(0, 0, 0, 0.3));\n",
              "      fill: #FFFFFF;\n",
              "    }\n",
              "  </style>\n",
              "\n",
              "      <script>\n",
              "        const buttonEl =\n",
              "          document.querySelector('#df-2978cfca-a7d7-4005-b5a9-53852e7f4a7a button.colab-df-convert');\n",
              "        buttonEl.style.display =\n",
              "          google.colab.kernel.accessAllowed ? 'block' : 'none';\n",
              "\n",
              "        async function convertToInteractive(key) {\n",
              "          const element = document.querySelector('#df-2978cfca-a7d7-4005-b5a9-53852e7f4a7a');\n",
              "          const dataTable =\n",
              "            await google.colab.kernel.invokeFunction('convertToInteractive',\n",
              "                                                     [key], {});\n",
              "          if (!dataTable) return;\n",
              "\n",
              "          const docLinkHtml = 'Like what you see? Visit the ' +\n",
              "            '<a target=\"_blank\" href=https://colab.research.google.com/notebooks/data_table.ipynb>data table notebook</a>'\n",
              "            + ' to learn more about interactive tables.';\n",
              "          element.innerHTML = '';\n",
              "          dataTable['output_type'] = 'display_data';\n",
              "          await google.colab.output.renderOutput(dataTable, element);\n",
              "          const docLink = document.createElement('div');\n",
              "          docLink.innerHTML = docLinkHtml;\n",
              "          element.appendChild(docLink);\n",
              "        }\n",
              "      </script>\n",
              "    </div>\n",
              "  </div>\n",
              "  "
            ]
          },
          "metadata": {},
          "execution_count": 32
        }
      ],
      "source": [
        "df.head()"
      ]
    },
    {
      "cell_type": "code",
      "source": [
        "x=df.iloc[:,1:].values"
      ],
      "metadata": {
        "id": "ANCOkMNZa9b_"
      },
      "execution_count": 33,
      "outputs": []
    },
    {
      "cell_type": "code",
      "source": [
        "y=df.iloc[:,1].values.reshape(-1,1)"
      ],
      "metadata": {
        "id": "bPhplMmPbir1"
      },
      "execution_count": 34,
      "outputs": []
    },
    {
      "cell_type": "code",
      "source": [
        "x[0]"
      ],
      "metadata": {
        "colab": {
          "base_uri": "https://localhost:8080/"
        },
        "id": "f0D664UWbEmy",
        "outputId": "0e986a06-e312-48e8-f95c-aaf63cdc9423"
      },
      "execution_count": 35,
      "outputs": [
        {
          "output_type": "execute_result",
          "data": {
            "text/plain": [
              "array([7420, 4, 2, 3, 'yes', 'no', 'no', 'no', 'yes', 2, 'furnished'],\n",
              "      dtype=object)"
            ]
          },
          "metadata": {},
          "execution_count": 35
        }
      ]
    },
    {
      "cell_type": "code",
      "source": [],
      "metadata": {
        "id": "RJZJo_SObGz-"
      },
      "execution_count": 35,
      "outputs": []
    },
    {
      "cell_type": "markdown",
      "metadata": {
        "id": "N32izT8bWTW5"
      },
      "source": [
        "UNIVARIATE ANALYSIS\n"
      ]
    },
    {
      "cell_type": "code",
      "execution_count": 36,
      "metadata": {
        "colab": {
          "base_uri": "https://localhost:8080/",
          "height": 517
        },
        "id": "rU95ISTXWJQC",
        "outputId": "4c32a720-1d98-4d10-a92a-65635dab0fbe"
      },
      "outputs": [
        {
          "output_type": "execute_result",
          "data": {
            "text/plain": [
              "(array([ 61., 163., 139.,  89.,  46.,  25.,  13.,   4.,   1.,   4.]),\n",
              " array([ 1750000.,  2905000.,  4060000.,  5215000.,  6370000.,  7525000.,\n",
              "         8680000.,  9835000., 10990000., 12145000., 13300000.]),\n",
              " <BarContainer object of 10 artists>)"
            ]
          },
          "metadata": {},
          "execution_count": 36
        },
        {
          "output_type": "display_data",
          "data": {
            "text/plain": [
              "<Figure size 640x480 with 1 Axes>"
            ],
            "image/png": "[encoded data removed]"
          },
          "metadata": {}
        }
      ],
      "source": [
        "plt.hist(df['price']) "
      ]
    },
    {
      "cell_type": "code",
      "execution_count": 37,
      "metadata": {
        "colab": {
          "base_uri": "https://localhost:8080/",
          "height": 447
        },
        "id": "-AFKt_noWZFB",
        "outputId": "f899963a-5fd5-45c4-e879-cf61e208f823"
      },
      "outputs": [
        {
          "output_type": "execute_result",
          "data": {
            "text/plain": [
              "<Axes: >"
            ]
          },
          "metadata": {},
          "execution_count": 37
        },
        {
          "output_type": "display_data",
          "data": {
            "text/plain": [
              "<Figure size 640x480 with 1 Axes>"
            ],
            "image/png": "[encoded data removed]"
          },
          "metadata": {}
        }
      ],
      "source": [
        "df.boxplot(column=\"bedrooms\")"
      ]
    },
    {
      "cell_type": "markdown",
      "metadata": {
        "id": "081SzVVwW-oR"
      },
      "source": [
        "BIVARIATE ANALYSIS"
      ]
    },
    {
      "cell_type": "code",
      "execution_count": 38,
      "metadata": {
        "colab": {
          "base_uri": "https://localhost:8080/",
          "height": 466
        },
        "id": "oGsE8blBXDy2",
        "outputId": "9d7c222e-e311-42f1-dc36-e4e3a61ef885"
      },
      "outputs": [
        {
          "output_type": "execute_result",
          "data": {
            "text/plain": [
              "<Axes: xlabel='bedrooms', ylabel='parking'>"
            ]
          },
          "metadata": {},
          "execution_count": 38
        },
        {
          "output_type": "display_data",
          "data": {
            "text/plain": [
              "<Figure size 640x480 with 1 Axes>"
            ],
            "image/png": "[encoded data removed]"
          },
          "metadata": {}
        }
      ],
      "source": [
        "sns.barplot(x=\"bedrooms\",y=\"parking\",data=df)"
      ]
    },
    {
      "cell_type": "code",
      "execution_count": 39,
      "metadata": {
        "colab": {
          "base_uri": "https://localhost:8080/",
          "height": 466
        },
        "id": "UDWLAEMvXcY0",
        "outputId": "01991a88-4e3f-4144-cfba-9e49a06cc30d"
      },
      "outputs": [
        {
          "output_type": "execute_result",
          "data": {
            "text/plain": [
              "<Axes: xlabel='price', ylabel='count'>"
            ]
          },
          "metadata": {},
          "execution_count": 39
        },
        {
          "output_type": "display_data",
          "data": {
            "text/plain": [
              "<Figure size 640x480 with 1 Axes>"
            ],
            "image/png": "[encoded data removed]"
          },
          "metadata": {}
        }
      ],
      "source": [
        "sns.countplot(x=\"price\",data=df)"
      ]
    },
    {
      "cell_type": "code",
      "execution_count": 40,
      "metadata": {
        "colab": {
          "base_uri": "https://localhost:8080/",
          "height": 466
        },
        "id": "FnoRyfsWXm4q",
        "outputId": "affd323e-6143-4608-8093-48f23aaba87d"
      },
      "outputs": [
        {
          "output_type": "execute_result",
          "data": {
            "text/plain": [
              "<Axes: xlabel='stories', ylabel='guestroom'>"
            ]
          },
          "metadata": {},
          "execution_count": 40
        },
        {
          "output_type": "display_data",
          "data": {
            "text/plain": [
              "<Figure size 640x480 with 1 Axes>"
            ],
            "image/png": "[encoded data removed]"
          },
          "metadata": {}
        }
      ],
      "source": [
        "sns.violinplot(x=\"stories\",y=\"guestroom\",data=df)"
      ]
    },
    {
      "cell_type": "markdown",
      "metadata": {
        "id": "qZ3u8PVWYFhK"
      },
      "source": [
        "MULTIVARIATE ANALYSIS"
      ]
    },
    {
      "cell_type": "code",
      "execution_count": 41,
      "metadata": {
        "colab": {
          "base_uri": "https://localhost:8080/",
          "height": 568
        },
        "id": "kaVd1xUZX_AN",
        "outputId": "effd458a-a933-457d-f1a8-9d2480e7a92b"
      },
      "outputs": [
        {
          "output_type": "stream",
          "name": "stderr",
          "text": [
            "<ipython-input-41-aa4f4450a243>:1: FutureWarning: The default value of numeric_only in DataFrame.corr is deprecated. In a future version, it will default to False. Select only valid columns or specify the value of numeric_only to silence this warning.\n",
            "  sns.heatmap(df.corr())\n"
          ]
        },
        {
          "output_type": "execute_result",
          "data": {
            "text/plain": [
              "<Axes: >"
            ]
          },
          "metadata": {},
          "execution_count": 41
        },
        {
          "output_type": "display_data",
          "data": {
            "text/plain": [
              "<Figure size 640x480 with 2 Axes>"
            ],
            "image/png": "[encoded data removed]"
          },
          "metadata": {}
        }
      ],
      "source": [
        "sns.heatmap(df.corr())"
      ]
    },
    {
      "cell_type": "markdown",
      "metadata": {
        "id": "KiX8IqyiZA1m"
      },
      "source": [
        "DESCRIPTIVE STATISTICS"
      ]
    },
    {
      "cell_type": "code",
      "execution_count": 42,
      "metadata": {
        "colab": {
          "base_uri": "https://localhost:8080/",
          "height": 300
        },
        "id": "oQaTn1ywYjiB",
        "outputId": "b7741090-ffa6-409a-a4c6-9bda9555b48b"
      },
      "outputs": [
        {
          "output_type": "execute_result",
          "data": {
            "text/plain": [
              "              price          area    bedrooms   bathrooms     stories  \\\n",
              "count  5.450000e+02    545.000000  545.000000  545.000000  545.000000   \n",
              "mean   4.766729e+06   5150.541284    2.965138    1.286239    1.805505   \n",
              "std    1.870440e+06   2170.141023    0.738064    0.502470    0.867492   \n",
              "min    1.750000e+06   1650.000000    1.000000    1.000000    1.000000   \n",
              "25%    3.430000e+06   3600.000000    2.000000    1.000000    1.000000   \n",
              "50%    4.340000e+06   4600.000000    3.000000    1.000000    2.000000   \n",
              "75%    5.740000e+06   6360.000000    3.000000    2.000000    2.000000   \n",
              "max    1.330000e+07  16200.000000    6.000000    4.000000    4.000000   \n",
              "\n",
              "          parking  \n",
              "count  545.000000  \n",
              "mean     0.693578  \n",
              "std      0.861586  \n",
              "min      0.000000  \n",
              "25%      0.000000  \n",
              "50%      0.000000  \n",
              "75%      1.000000  \n",
              "max      3.000000  "
            ],
            "text/html": [
              "\n",
              "  <div id=\"df-422735e6-0ee4-4ae5-9210-4333e67ab247\">\n",
              "    <div class=\"colab-df-container\">\n",
              "      <div>\n",
              "<style scoped>\n",
              "    .dataframe tbody tr th:only-of-type {\n",
              "        vertical-align: middle;\n",
              "    }\n",
              "\n",
              "    .dataframe tbody tr th {\n",
              "        vertical-align: top;\n",
              "    }\n",
              "\n",
              "    .dataframe thead th {\n",
              "        text-align: right;\n",
              "    }\n",
              "</style>\n",
              "<table border=\"1\" class=\"dataframe\">\n",
              "  <thead>\n",
              "    <tr style=\"text-align: right;\">\n",
              "      <th></th>\n",
              "      <th>price</th>\n",
              "      <th>area</th>\n",
              "      <th>bedrooms</th>\n",
              "      <th>bathrooms</th>\n",
              "      <th>stories</th>\n",
              "      <th>parking</th>\n",
              "    </tr>\n",
              "  </thead>\n",
              "  <tbody>\n",
              "    <tr>\n",
              "      <th>count</th>\n",
              "      <td>5.450000e+02</td>\n",
              "      <td>545.000000</td>\n",
              "      <td>545.000000</td>\n",
              "      <td>545.000000</td>\n",
              "      <td>545.000000</td>\n",
              "      <td>545.000000</td>\n",
              "    </tr>\n",
              "    <tr>\n",
              "      <th>mean</th>\n",
              "      <td>4.766729e+06</td>\n",
              "      <td>5150.541284</td>\n",
              "      <td>2.965138</td>\n",
              "      <td>1.286239</td>\n",
              "      <td>1.805505</td>\n",
              "      <td>0.693578</td>\n",
              "    </tr>\n",
              "    <tr>\n",
              "      <th>std</th>\n",
              "      <td>1.870440e+06</td>\n",
              "      <td>2170.141023</td>\n",
              "      <td>0.738064</td>\n",
              "      <td>0.502470</td>\n",
              "      <td>0.867492</td>\n",
              "      <td>0.861586</td>\n",
              "    </tr>\n",
              "    <tr>\n",
              "      <th>min</th>\n",
              "      <td>1.750000e+06</td>\n",
              "      <td>1650.000000</td>\n",
              "      <td>1.000000</td>\n",
              "      <td>1.000000</td>\n",
              "      <td>1.000000</td>\n",
              "      <td>0.000000</td>\n",
              "    </tr>\n",
              "    <tr>\n",
              "      <th>25%</th>\n",
              "      <td>3.430000e+06</td>\n",
              "      <td>3600.000000</td>\n",
              "      <td>2.000000</td>\n",
              "      <td>1.000000</td>\n",
              "      <td>1.000000</td>\n",
              "      <td>0.000000</td>\n",
              "    </tr>\n",
              "    <tr>\n",
              "      <th>50%</th>\n",
              "      <td>4.340000e+06</td>\n",
              "      <td>4600.000000</td>\n",
              "      <td>3.000000</td>\n",
              "      <td>1.000000</td>\n",
              "      <td>2.000000</td>\n",
              "      <td>0.000000</td>\n",
              "    </tr>\n",
              "    <tr>\n",
              "      <th>75%</th>\n",
              "      <td>5.740000e+06</td>\n",
              "      <td>6360.000000</td>\n",
              "      <td>3.000000</td>\n",
              "      <td>2.000000</td>\n",
              "      <td>2.000000</td>\n",
              "      <td>1.000000</td>\n",
              "    </tr>\n",
              "    <tr>\n",
              "      <th>max</th>\n",
              "      <td>1.330000e+07</td>\n",
              "      <td>16200.000000</td>\n",
              "      <td>6.000000</td>\n",
              "      <td>4.000000</td>\n",
              "      <td>4.000000</td>\n",
              "      <td>3.000000</td>\n",
              "    </tr>\n",
              "  </tbody>\n",
              "</table>\n",
              "</div>\n",
              "      <button class=\"colab-df-convert\" onclick=\"convertToInteractive('df-422735e6-0ee4-4ae5-9210-4333e67ab247')\"\n",
              "              title=\"Convert this dataframe to an interactive table.\"\n",
              "              style=\"display:none;\">\n",
              "        \n",
              "  <svg xmlns=\"http://www.w3.org/2000/svg\" height=\"24px\"viewBox=\"0 0 24 24\"\n",
              "       width=\"24px\">\n",
              "    <path d=\"M0 0h24v24H0V0z\" fill=\"none\"/>\n",
              "    <path d=\"M18.56 5.44l.94 2.06.94-2.06 2.06-.94-2.06-.94-.94-2.06-.94 2.06-2.06.94zm-11 1L8.5 8.5l.94-2.06 2.06-.94-2.06-.94L8.5 2.5l-.94 2.06-2.06.94zm10 10l.94 2.06.94-2.06 2.06-.94-2.06-.94-.94-2.06-.94 2.06-2.06.94z\"/><path d=\"M17.41 7.96l-1.37-1.37c-.4-.4-.92-.59-1.43-.59-.52 0-1.04.2-1.43.59L10.3 9.45l-7.72 7.72c-.78.78-.78 2.05 0 2.83L4 21.41c.39.39.9.59 1.41.59.51 0 1.02-.2 1.41-.59l7.78-7.78 2.81-2.81c.8-.78.8-2.07 0-2.86zM5.41 20L4 18.59l7.72-7.72 1.47 1.35L5.41 20z\"/>\n",
              "  </svg>\n",
              "      </button>\n",
              "      \n",
              "  <style>\n",
              "    .colab-df-container {\n",
              "      display:flex;\n",
              "      flex-wrap:wrap;\n",
              "      gap: 12px;\n",
              "    }\n",
              "\n",
              "    .colab-df-convert {\n",
              "      background-color: #E8F0FE;\n",
              "      border: none;\n",
              "      border-radius: 50%;\n",
              "      cursor: pointer;\n",
              "      display: none;\n",
              "      fill: #1967D2;\n",
              "      height: 32px;\n",
              "      padding: 0 0 0 0;\n",
              "      width: 32px;\n",
              "    }\n",
              "\n",
              "    .colab-df-convert:hover {\n",
              "      background-color: #E2EBFA;\n",
              "      box-shadow: 0px 1px 2px rgba(60, 64, 67, 0.3), 0px 1px 3px 1px rgba(60, 64, 67, 0.15);\n",
              "      fill: #174EA6;\n",
              "    }\n",
              "\n",
              "    [theme=dark] .colab-df-convert {\n",
              "      background-color: #3B4455;\n",
              "      fill: #D2E3FC;\n",
              "    }\n",
              "\n",
              "    [theme=dark] .colab-df-convert:hover {\n",
              "      background-color: #434B5C;\n",
              "      box-shadow: 0px 1px 3px 1px rgba(0, 0, 0, 0.15);\n",
              "      filter: drop-shadow(0px 1px 2px rgba(0, 0, 0, 0.3));\n",
              "      fill: #FFFFFF;\n",
              "    }\n",
              "  </style>\n",
              "\n",
              "      <script>\n",
              "        const buttonEl =\n",
              "          document.querySelector('#df-422735e6-0ee4-4ae5-9210-4333e67ab247 button.colab-df-convert');\n",
              "        buttonEl.style.display =\n",
              "          google.colab.kernel.accessAllowed ? 'block' : 'none';\n",
              "\n",
              "        async function convertToInteractive(key) {\n",
              "          const element = document.querySelector('#df-422735e6-0ee4-4ae5-9210-4333e67ab247');\n",
              "          const dataTable =\n",
              "            await google.colab.kernel.invokeFunction('convertToInteractive',\n",
              "                                                     [key], {});\n",
              "          if (!dataTable) return;\n",
              "\n",
              "          const docLinkHtml = 'Like what you see? Visit the ' +\n",
              "            '<a target=\"_blank\" href=https://colab.research.google.com/notebooks/data_table.ipynb>data table notebook</a>'\n",
              "            + ' to learn more about interactive tables.';\n",
              "          element.innerHTML = '';\n",
              "          dataTable['output_type'] = 'display_data';\n",
              "          await google.colab.output.renderOutput(dataTable, element);\n",
              "          const docLink = document.createElement('div');\n",
              "          docLink.innerHTML = docLinkHtml;\n",
              "          element.appendChild(docLink);\n",
              "        }\n",
              "      </script>\n",
              "    </div>\n",
              "  </div>\n",
              "  "
            ]
          },
          "metadata": {},
          "execution_count": 42
        }
      ],
      "source": [
        "df.describe()"
      ]
    },
    {
      "cell_type": "markdown",
      "metadata": {
        "id": "XBXsix85Y7JI"
      },
      "source": [
        "NULL HANDLING"
      ]
    },
    {
      "cell_type": "code",
      "execution_count": 43,
      "metadata": {
        "colab": {
          "base_uri": "https://localhost:8080/"
        },
        "id": "daWBu-YuYnod",
        "outputId": "3e93d784-5cd3-4ff5-8622-dba6f7eea718"
      },
      "outputs": [
        {
          "output_type": "execute_result",
          "data": {
            "text/plain": [
              "price               0\n",
              "area                0\n",
              "bedrooms            0\n",
              "bathrooms           0\n",
              "stories             0\n",
              "mainroad            0\n",
              "guestroom           0\n",
              "basement            0\n",
              "hotwaterheating     0\n",
              "airconditioning     0\n",
              "parking             0\n",
              "furnishingstatus    0\n",
              "dtype: int64"
            ]
          },
          "metadata": {},
          "execution_count": 43
        }
      ],
      "source": [
        "df.isna().sum()"
      ]
    },
    {
      "cell_type": "markdown",
      "metadata": {
        "id": "npqC8Qi6ZPmQ"
      },
      "source": [
        "OUTLIERS"
      ]
    },
    {
      "cell_type": "code",
      "execution_count": 44,
      "metadata": {
        "id": "N-bLSi4UYrnS"
      },
      "outputs": [],
      "source": [
        "df = df.drop(columns=([\"stories\", \"bedrooms\",\"bathrooms\"]))"
      ]
    },
    {
      "cell_type": "code",
      "execution_count": 45,
      "metadata": {
        "colab": {
          "base_uri": "https://localhost:8080/",
          "height": 300
        },
        "id": "RPtozDmRaJTz",
        "outputId": "838302a3-e7f2-4d8c-b3db-e4a553810609"
      },
      "outputs": [
        {
          "output_type": "execute_result",
          "data": {
            "text/plain": [
              "              price          area     parking\n",
              "count  5.450000e+02    545.000000  545.000000\n",
              "mean   4.766729e+06   5150.541284    0.693578\n",
              "std    1.870440e+06   2170.141023    0.861586\n",
              "min    1.750000e+06   1650.000000    0.000000\n",
              "25%    3.430000e+06   3600.000000    0.000000\n",
              "50%    4.340000e+06   4600.000000    0.000000\n",
              "75%    5.740000e+06   6360.000000    1.000000\n",
              "max    1.330000e+07  16200.000000    3.000000"
            ],
            "text/html": [
              "\n",
              "  <div id=\"df-d6a04466-bdc9-4fcb-8a06-d7be15a7441b\">\n",
              "    <div class=\"colab-df-container\">\n",
              "      <div>\n",
              "<style scoped>\n",
              "    .dataframe tbody tr th:only-of-type {\n",
              "        vertical-align: middle;\n",
              "    }\n",
              "\n",
              "    .dataframe tbody tr th {\n",
              "        vertical-align: top;\n",
              "    }\n",
              "\n",
              "    .dataframe thead th {\n",
              "        text-align: right;\n",
              "    }\n",
              "</style>\n",
              "<table border=\"1\" class=\"dataframe\">\n",
              "  <thead>\n",
              "    <tr style=\"text-align: right;\">\n",
              "      <th></th>\n",
              "      <th>price</th>\n",
              "      <th>area</th>\n",
              "      <th>parking</th>\n",
              "    </tr>\n",
              "  </thead>\n",
              "  <tbody>\n",
              "    <tr>\n",
              "      <th>count</th>\n",
              "      <td>5.450000e+02</td>\n",
              "      <td>545.000000</td>\n",
              "      <td>545.000000</td>\n",
              "    </tr>\n",
              "    <tr>\n",
              "      <th>mean</th>\n",
              "      <td>4.766729e+06</td>\n",
              "      <td>5150.541284</td>\n",
              "      <td>0.693578</td>\n",
              "    </tr>\n",
              "    <tr>\n",
              "      <th>std</th>\n",
              "      <td>1.870440e+06</td>\n",
              "      <td>2170.141023</td>\n",
              "      <td>0.861586</td>\n",
              "    </tr>\n",
              "    <tr>\n",
              "      <th>min</th>\n",
              "      <td>1.750000e+06</td>\n",
              "      <td>1650.000000</td>\n",
              "      <td>0.000000</td>\n",
              "    </tr>\n",
              "    <tr>\n",
              "      <th>25%</th>\n",
              "      <td>3.430000e+06</td>\n",
              "      <td>3600.000000</td>\n",
              "      <td>0.000000</td>\n",
              "    </tr>\n",
              "    <tr>\n",
              "      <th>50%</th>\n",
              "      <td>4.340000e+06</td>\n",
              "      <td>4600.000000</td>\n",
              "      <td>0.000000</td>\n",
              "    </tr>\n",
              "    <tr>\n",
              "      <th>75%</th>\n",
              "      <td>5.740000e+06</td>\n",
              "      <td>6360.000000</td>\n",
              "      <td>1.000000</td>\n",
              "    </tr>\n",
              "    <tr>\n",
              "      <th>max</th>\n",
              "      <td>1.330000e+07</td>\n",
              "      <td>16200.000000</td>\n",
              "      <td>3.000000</td>\n",
              "    </tr>\n",
              "  </tbody>\n",
              "</table>\n",
              "</div>\n",
              "      <button class=\"colab-df-convert\" onclick=\"convertToInteractive('df-d6a04466-bdc9-4fcb-8a06-d7be15a7441b')\"\n",
              "              title=\"Convert this dataframe to an interactive table.\"\n",
              "              style=\"display:none;\">\n",
              "        \n",
              "  <svg xmlns=\"http://www.w3.org/2000/svg\" height=\"24px\"viewBox=\"0 0 24 24\"\n",
              "       width=\"24px\">\n",
              "    <path d=\"M0 0h24v24H0V0z\" fill=\"none\"/>\n",
              "    <path d=\"M18.56 5.44l.94 2.06.94-2.06 2.06-.94-2.06-.94-.94-2.06-.94 2.06-2.06.94zm-11 1L8.5 8.5l.94-2.06 2.06-.94-2.06-.94L8.5 2.5l-.94 2.06-2.06.94zm10 10l.94 2.06.94-2.06 2.06-.94-2.06-.94-.94-2.06-.94 2.06-2.06.94z\"/><path d=\"M17.41 7.96l-1.37-1.37c-.4-.4-.92-.59-1.43-.59-.52 0-1.04.2-1.43.59L10.3 9.45l-7.72 7.72c-.78.78-.78 2.05 0 2.83L4 21.41c.39.39.9.59 1.41.59.51 0 1.02-.2 1.41-.59l7.78-7.78 2.81-2.81c.8-.78.8-2.07 0-2.86zM5.41 20L4 18.59l7.72-7.72 1.47 1.35L5.41 20z\"/>\n",
              "  </svg>\n",
              "      </button>\n",
              "      \n",
              "  <style>\n",
              "    .colab-df-container {\n",
              "      display:flex;\n",
              "      flex-wrap:wrap;\n",
              "      gap: 12px;\n",
              "    }\n",
              "\n",
              "    .colab-df-convert {\n",
              "      background-color: #E8F0FE;\n",
              "      border: none;\n",
              "      border-radius: 50%;\n",
              "      cursor: pointer;\n",
              "      display: none;\n",
              "      fill: #1967D2;\n",
              "      height: 32px;\n",
              "      padding: 0 0 0 0;\n",
              "      width: 32px;\n",
              "    }\n",
              "\n",
              "    .colab-df-convert:hover {\n",
              "      background-color: #E2EBFA;\n",
              "      box-shadow: 0px 1px 2px rgba(60, 64, 67, 0.3), 0px 1px 3px 1px rgba(60, 64, 67, 0.15);\n",
              "      fill: #174EA6;\n",
              "    }\n",
              "\n",
              "    [theme=dark] .colab-df-convert {\n",
              "      background-color: #3B4455;\n",
              "      fill: #D2E3FC;\n",
              "    }\n",
              "\n",
              "    [theme=dark] .colab-df-convert:hover {\n",
              "      background-color: #434B5C;\n",
              "      box-shadow: 0px 1px 3px 1px rgba(0, 0, 0, 0.15);\n",
              "      filter: drop-shadow(0px 1px 2px rgba(0, 0, 0, 0.3));\n",
              "      fill: #FFFFFF;\n",
              "    }\n",
              "  </style>\n",
              "\n",
              "      <script>\n",
              "        const buttonEl =\n",
              "          document.querySelector('#df-d6a04466-bdc9-4fcb-8a06-d7be15a7441b button.colab-df-convert');\n",
              "        buttonEl.style.display =\n",
              "          google.colab.kernel.accessAllowed ? 'block' : 'none';\n",
              "\n",
              "        async function convertToInteractive(key) {\n",
              "          const element = document.querySelector('#df-d6a04466-bdc9-4fcb-8a06-d7be15a7441b');\n",
              "          const dataTable =\n",
              "            await google.colab.kernel.invokeFunction('convertToInteractive',\n",
              "                                                     [key], {});\n",
              "          if (!dataTable) return;\n",
              "\n",
              "          const docLinkHtml = 'Like what you see? Visit the ' +\n",
              "            '<a target=\"_blank\" href=https://colab.research.google.com/notebooks/data_table.ipynb>data table notebook</a>'\n",
              "            + ' to learn more about interactive tables.';\n",
              "          element.innerHTML = '';\n",
              "          dataTable['output_type'] = 'display_data';\n",
              "          await google.colab.output.renderOutput(dataTable, element);\n",
              "          const docLink = document.createElement('div');\n",
              "          docLink.innerHTML = docLinkHtml;\n",
              "          element.appendChild(docLink);\n",
              "        }\n",
              "      </script>\n",
              "    </div>\n",
              "  </div>\n",
              "  "
            ]
          },
          "metadata": {},
          "execution_count": 45
        }
      ],
      "source": [
        "df.describe()"
      ]
    },
    {
      "cell_type": "markdown",
      "metadata": {
        "id": "e3D6-h_cartr"
      },
      "source": [
        "CATEGORIAL COLUMNS AND PERFORM ENCODING"
      ]
    },
    {
      "cell_type": "code",
      "execution_count": 46,
      "metadata": {
        "id": "QUqbS5phaN5f"
      },
      "outputs": [],
      "source": [
        "df_categorical =df[[\"guestroom\",\"basement\",\"hotwaterheating\",\"airconditioning\"]]"
      ]
    },
    {
      "cell_type": "code",
      "execution_count": 47,
      "metadata": {
        "colab": {
          "base_uri": "https://localhost:8080/",
          "height": 206
        },
        "id": "xhDGspF5b8Z6",
        "outputId": "a6d941eb-fa2a-4059-b5de-9cdab8e90872"
      },
      "outputs": [
        {
          "output_type": "execute_result",
          "data": {
            "text/plain": [
              "  guestroom basement hotwaterheating airconditioning\n",
              "0        no       no              no             yes\n",
              "1        no       no              no             yes\n",
              "2        no      yes              no              no\n",
              "3        no      yes              no             yes\n",
              "4       yes      yes              no             yes"
            ],
            "text/html": [
              "\n",
              "  <div id=\"df-7bbfd9a8-3419-441f-a106-8814b667610d\">\n",
              "    <div class=\"colab-df-container\">\n",
              "      <div>\n",
              "<style scoped>\n",
              "    .dataframe tbody tr th:only-of-type {\n",
              "        vertical-align: middle;\n",
              "    }\n",
              "\n",
              "    .dataframe tbody tr th {\n",
              "        vertical-align: top;\n",
              "    }\n",
              "\n",
              "    .dataframe thead th {\n",
              "        text-align: right;\n",
              "    }\n",
              "</style>\n",
              "<table border=\"1\" class=\"dataframe\">\n",
              "  <thead>\n",
              "    <tr style=\"text-align: right;\">\n",
              "      <th></th>\n",
              "      <th>guestroom</th>\n",
              "      <th>basement</th>\n",
              "      <th>hotwaterheating</th>\n",
              "      <th>airconditioning</th>\n",
              "    </tr>\n",
              "  </thead>\n",
              "  <tbody>\n",
              "    <tr>\n",
              "      <th>0</th>\n",
              "      <td>no</td>\n",
              "      <td>no</td>\n",
              "      <td>no</td>\n",
              "      <td>yes</td>\n",
              "    </tr>\n",
              "    <tr>\n",
              "      <th>1</th>\n",
              "      <td>no</td>\n",
              "      <td>no</td>\n",
              "      <td>no</td>\n",
              "      <td>yes</td>\n",
              "    </tr>\n",
              "    <tr>\n",
              "      <th>2</th>\n",
              "      <td>no</td>\n",
              "      <td>yes</td>\n",
              "      <td>no</td>\n",
              "      <td>no</td>\n",
              "    </tr>\n",
              "    <tr>\n",
              "      <th>3</th>\n",
              "      <td>no</td>\n",
              "      <td>yes</td>\n",
              "      <td>no</td>\n",
              "      <td>yes</td>\n",
              "    </tr>\n",
              "    <tr>\n",
              "      <th>4</th>\n",
              "      <td>yes</td>\n",
              "      <td>yes</td>\n",
              "      <td>no</td>\n",
              "      <td>yes</td>\n",
              "    </tr>\n",
              "  </tbody>\n",
              "</table>\n",
              "</div>\n",
              "      <button class=\"colab-df-convert\" onclick=\"convertToInteractive('df-7bbfd9a8-3419-441f-a106-8814b667610d')\"\n",
              "              title=\"Convert this dataframe to an interactive table.\"\n",
              "              style=\"display:none;\">\n",
              "        \n",
              "  <svg xmlns=\"http://www.w3.org/2000/svg\" height=\"24px\"viewBox=\"0 0 24 24\"\n",
              "       width=\"24px\">\n",
              "    <path d=\"M0 0h24v24H0V0z\" fill=\"none\"/>\n",
              "    <path d=\"M18.56 5.44l.94 2.06.94-2.06 2.06-.94-2.06-.94-.94-2.06-.94 2.06-2.06.94zm-11 1L8.5 8.5l.94-2.06 2.06-.94-2.06-.94L8.5 2.5l-.94 2.06-2.06.94zm10 10l.94 2.06.94-2.06 2.06-.94-2.06-.94-.94-2.06-.94 2.06-2.06.94z\"/><path d=\"M17.41 7.96l-1.37-1.37c-.4-.4-.92-.59-1.43-.59-.52 0-1.04.2-1.43.59L10.3 9.45l-7.72 7.72c-.78.78-.78 2.05 0 2.83L4 21.41c.39.39.9.59 1.41.59.51 0 1.02-.2 1.41-.59l7.78-7.78 2.81-2.81c.8-.78.8-2.07 0-2.86zM5.41 20L4 18.59l7.72-7.72 1.47 1.35L5.41 20z\"/>\n",
              "  </svg>\n",
              "      </button>\n",
              "      \n",
              "  <style>\n",
              "    .colab-df-container {\n",
              "      display:flex;\n",
              "      flex-wrap:wrap;\n",
              "      gap: 12px;\n",
              "    }\n",
              "\n",
              "    .colab-df-convert {\n",
              "      background-color: #E8F0FE;\n",
              "      border: none;\n",
              "      border-radius: 50%;\n",
              "      cursor: pointer;\n",
              "      display: none;\n",
              "      fill: #1967D2;\n",
              "      height: 32px;\n",
              "      padding: 0 0 0 0;\n",
              "      width: 32px;\n",
              "    }\n",
              "\n",
              "    .colab-df-convert:hover {\n",
              "      background-color: #E2EBFA;\n",
              "      box-shadow: 0px 1px 2px rgba(60, 64, 67, 0.3), 0px 1px 3px 1px rgba(60, 64, 67, 0.15);\n",
              "      fill: #174EA6;\n",
              "    }\n",
              "\n",
              "    [theme=dark] .colab-df-convert {\n",
              "      background-color: #3B4455;\n",
              "      fill: #D2E3FC;\n",
              "    }\n",
              "\n",
              "    [theme=dark] .colab-df-convert:hover {\n",
              "      background-color: #434B5C;\n",
              "      box-shadow: 0px 1px 3px 1px rgba(0, 0, 0, 0.15);\n",
              "      filter: drop-shadow(0px 1px 2px rgba(0, 0, 0, 0.3));\n",
              "      fill: #FFFFFF;\n",
              "    }\n",
              "  </style>\n",
              "\n",
              "      <script>\n",
              "        const buttonEl =\n",
              "          document.querySelector('#df-7bbfd9a8-3419-441f-a106-8814b667610d button.colab-df-convert');\n",
              "        buttonEl.style.display =\n",
              "          google.colab.kernel.accessAllowed ? 'block' : 'none';\n",
              "\n",
              "        async function convertToInteractive(key) {\n",
              "          const element = document.querySelector('#df-7bbfd9a8-3419-441f-a106-8814b667610d');\n",
              "          const dataTable =\n",
              "            await google.colab.kernel.invokeFunction('convertToInteractive',\n",
              "                                                     [key], {});\n",
              "          if (!dataTable) return;\n",
              "\n",
              "          const docLinkHtml = 'Like what you see? Visit the ' +\n",
              "            '<a target=\"_blank\" href=https://colab.research.google.com/notebooks/data_table.ipynb>data table notebook</a>'\n",
              "            + ' to learn more about interactive tables.';\n",
              "          element.innerHTML = '';\n",
              "          dataTable['output_type'] = 'display_data';\n",
              "          await google.colab.output.renderOutput(dataTable, element);\n",
              "          const docLink = document.createElement('div');\n",
              "          docLink.innerHTML = docLinkHtml;\n",
              "          element.appendChild(docLink);\n",
              "        }\n",
              "      </script>\n",
              "    </div>\n",
              "  </div>\n",
              "  "
            ]
          },
          "metadata": {},
          "execution_count": 47
        }
      ],
      "source": [
        "df_categorical.head()"
      ]
    },
    {
      "cell_type": "code",
      "execution_count": 48,
      "metadata": {
        "colab": {
          "base_uri": "https://localhost:8080/"
        },
        "id": "x7Booss2cJtu",
        "outputId": "9cee0a32-f6fc-4d5d-c294-564214ee492b"
      },
      "outputs": [
        {
          "output_type": "stream",
          "name": "stdout",
          "text": [
            "['yes' 'no']\n"
          ]
        }
      ],
      "source": [
        "print(df['airconditioning'].unique())"
      ]
    },
    {
      "cell_type": "code",
      "execution_count": 49,
      "metadata": {
        "colab": {
          "base_uri": "https://localhost:8080/"
        },
        "id": "hdeQix08cUmb",
        "outputId": "e012d1fc-734b-4a09-d303-bbc06c919475"
      },
      "outputs": [
        {
          "output_type": "stream",
          "name": "stdout",
          "text": [
            "['no' 'yes']\n"
          ]
        }
      ],
      "source": [
        "print(df['basement'].unique())"
      ]
    },
    {
      "cell_type": "code",
      "execution_count": 50,
      "metadata": {
        "colab": {
          "base_uri": "https://localhost:8080/"
        },
        "id": "nhIoSnRwcgJ7",
        "outputId": "0e58ce8b-8c7e-4d82-f030-9a83fa30b5ee"
      },
      "outputs": [
        {
          "output_type": "stream",
          "name": "stdout",
          "text": [
            "['no' 'yes']\n"
          ]
        }
      ],
      "source": [
        "print(df['guestroom'].unique())"
      ]
    },
    {
      "cell_type": "code",
      "execution_count": 51,
      "metadata": {
        "colab": {
          "base_uri": "https://localhost:8080/"
        },
        "id": "MmHXKUEOclaL",
        "outputId": "0c1644b1-ab15-4dc0-a50a-b598794e2c64"
      },
      "outputs": [
        {
          "output_type": "stream",
          "name": "stdout",
          "text": [
            "['no' 'yes']\n"
          ]
        }
      ],
      "source": [
        "print(df['hotwaterheating'].unique())"
      ]
    },
    {
      "cell_type": "code",
      "source": [
        "print(df['furnishingstatus'].unique())"
      ],
      "metadata": {
        "colab": {
          "base_uri": "https://localhost:8080/"
        },
        "id": "tqBKTrcLXzro",
        "outputId": "a6a6997e-4155-4ac8-a1ed-e4ce64a8e959"
      },
      "execution_count": 52,
      "outputs": [
        {
          "output_type": "stream",
          "name": "stdout",
          "text": [
            "['furnished' 'semi-furnished' 'unfurnished']\n"
          ]
        }
      ]
    },
    {
      "cell_type": "markdown",
      "metadata": {
        "id": "fmZoQyekcscC"
      },
      "source": [
        "SPLIT THE DATA INTO DEPENDENT AND INDEPENDENT VARIABLES"
      ]
    },
    {
      "cell_type": "code",
      "execution_count": 53,
      "metadata": {
        "colab": {
          "base_uri": "https://localhost:8080/"
        },
        "id": "sblz3F5nh_6N",
        "outputId": "e33df0fa-9ba8-4f50-ffbf-cbdf2934f21c"
      },
      "outputs": [
        {
          "output_type": "execute_result",
          "data": {
            "text/plain": [
              "array([7420, 4, 2, 3, 'yes', 'no', 'no', 'no', 'yes', 2, 'furnished'],\n",
              "      dtype=object)"
            ]
          },
          "metadata": {},
          "execution_count": 53
        }
      ],
      "source": [
        "x[0]"
      ]
    },
    {
      "cell_type": "code",
      "execution_count": 54,
      "metadata": {
        "colab": {
          "base_uri": "https://localhost:8080/"
        },
        "id": "Ia8F5MScfGx6",
        "outputId": "19b09d2e-43f9-4238-e1c7-16ea5999279f"
      },
      "outputs": [
        {
          "output_type": "execute_result",
          "data": {
            "text/plain": [
              "array([[ 7420],\n",
              "       [ 8960],\n",
              "       [ 9960],\n",
              "       [ 7500],\n",
              "       [ 7420],\n",
              "       [ 7500],\n",
              "       [ 8580],\n",
              "       [16200],\n",
              "       [ 8100],\n",
              "       [ 5750],\n",
              "       [13200],\n",
              "       [ 6000],\n",
              "       [ 6550],\n",
              "       [ 3500],\n",
              "       [ 7800],\n",
              "       [ 6000],\n",
              "       [ 6600],\n",
              "       [ 8500],\n",
              "       [ 4600],\n",
              "       [ 6420],\n",
              "       [ 4320],\n",
              "       [ 7155],\n",
              "       [ 8050],\n",
              "       [ 4560],\n",
              "       [ 8800],\n",
              "       [ 6540],\n",
              "       [ 6000],\n",
              "       [ 8875],\n",
              "       [ 7950],\n",
              "       [ 5500],\n",
              "       [ 7475],\n",
              "       [ 7000],\n",
              "       [ 4880],\n",
              "       [ 5960],\n",
              "       [ 6840],\n",
              "       [ 7000],\n",
              "       [ 7482],\n",
              "       [ 9000],\n",
              "       [ 6000],\n",
              "       [ 6000],\n",
              "       [ 6550],\n",
              "       [ 6360],\n",
              "       [ 6480],\n",
              "       [ 6000],\n",
              "       [ 6000],\n",
              "       [ 6000],\n",
              "       [ 6000],\n",
              "       [ 6600],\n",
              "       [ 4300],\n",
              "       [ 7440],\n",
              "       [ 7440],\n",
              "       [ 6325],\n",
              "       [ 6000],\n",
              "       [ 5150],\n",
              "       [ 6000],\n",
              "       [ 6000],\n",
              "       [11440],\n",
              "       [ 9000],\n",
              "       [ 7680],\n",
              "       [ 6000],\n",
              "       [ 6000],\n",
              "       [ 8880],\n",
              "       [ 6240],\n",
              "       [ 6360],\n",
              "       [11175],\n",
              "       [ 8880],\n",
              "       [13200],\n",
              "       [ 7700],\n",
              "       [ 6000],\n",
              "       [12090],\n",
              "       [ 4000],\n",
              "       [ 6000],\n",
              "       [ 5020],\n",
              "       [ 6600],\n",
              "       [ 4040],\n",
              "       [ 4260],\n",
              "       [ 6420],\n",
              "       [ 6500],\n",
              "       [ 5700],\n",
              "       [ 6000],\n",
              "       [ 6000],\n",
              "       [ 4000],\n",
              "       [10500],\n",
              "       [ 6000],\n",
              "       [ 3760],\n",
              "       [ 8250],\n",
              "       [ 6670],\n",
              "       [ 3960],\n",
              "       [ 7410],\n",
              "       [ 8580],\n",
              "       [ 5000],\n",
              "       [ 6750],\n",
              "       [ 4800],\n",
              "       [ 7200],\n",
              "       [ 6000],\n",
              "       [ 4100],\n",
              "       [ 9000],\n",
              "       [ 6400],\n",
              "       [ 6600],\n",
              "       [ 6000],\n",
              "       [ 6600],\n",
              "       [ 5500],\n",
              "       [ 5500],\n",
              "       [ 6350],\n",
              "       [ 5500],\n",
              "       [ 4500],\n",
              "       [ 5450],\n",
              "       [ 6420],\n",
              "       [ 3240],\n",
              "       [ 6615],\n",
              "       [ 6600],\n",
              "       [ 8372],\n",
              "       [ 4300],\n",
              "       [ 9620],\n",
              "       [ 6800],\n",
              "       [ 8000],\n",
              "       [ 6900],\n",
              "       [ 3700],\n",
              "       [ 6420],\n",
              "       [ 7020],\n",
              "       [ 6540],\n",
              "       [ 7231],\n",
              "       [ 6254],\n",
              "       [ 7320],\n",
              "       [ 6525],\n",
              "       [15600],\n",
              "       [ 7160],\n",
              "       [ 6500],\n",
              "       [ 5500],\n",
              "       [11460],\n",
              "       [ 4800],\n",
              "       [ 5828],\n",
              "       [ 5200],\n",
              "       [ 4800],\n",
              "       [ 7000],\n",
              "       [ 6000],\n",
              "       [ 5400],\n",
              "       [ 4640],\n",
              "       [ 5000],\n",
              "       [ 6360],\n",
              "       [ 5800],\n",
              "       [ 6660],\n",
              "       [10500],\n",
              "       [ 4800],\n",
              "       [ 4700],\n",
              "       [ 5000],\n",
              "       [10500],\n",
              "       [ 5500],\n",
              "       [ 6360],\n",
              "       [ 6600],\n",
              "       [ 5136],\n",
              "       [ 4400],\n",
              "       [ 5400],\n",
              "       [ 3300],\n",
              "       [ 3650],\n",
              "       [ 6100],\n",
              "       [ 6900],\n",
              "       [ 2817],\n",
              "       [ 7980],\n",
              "       [ 3150],\n",
              "       [ 6210],\n",
              "       [ 6100],\n",
              "       [ 6600],\n",
              "       [ 6825],\n",
              "       [ 6710],\n",
              "       [ 6450],\n",
              "       [ 7800],\n",
              "       [ 4600],\n",
              "       [ 4260],\n",
              "       [ 6540],\n",
              "       [ 5500],\n",
              "       [10269],\n",
              "       [ 8400],\n",
              "       [ 5300],\n",
              "       [ 3800],\n",
              "       [ 9800],\n",
              "       [ 8520],\n",
              "       [ 6050],\n",
              "       [ 7085],\n",
              "       [ 3180],\n",
              "       [ 4500],\n",
              "       [ 7200],\n",
              "       [ 3410],\n",
              "       [ 7980],\n",
              "       [ 3000],\n",
              "       [ 3000],\n",
              "       [11410],\n",
              "       [ 6100],\n",
              "       [ 5720],\n",
              "       [ 3540],\n",
              "       [ 7600],\n",
              "       [10700],\n",
              "       [ 6600],\n",
              "       [ 4800],\n",
              "       [ 8150],\n",
              "       [ 4410],\n",
              "       [ 7686],\n",
              "       [ 2800],\n",
              "       [ 5948],\n",
              "       [ 4200],\n",
              "       [ 4520],\n",
              "       [ 4095],\n",
              "       [ 4120],\n",
              "       [ 5400],\n",
              "       [ 4770],\n",
              "       [ 6300],\n",
              "       [ 5800],\n",
              "       [ 3000],\n",
              "       [ 2970],\n",
              "       [ 6720],\n",
              "       [ 4646],\n",
              "       [12900],\n",
              "       [ 3420],\n",
              "       [ 4995],\n",
              "       [ 4350],\n",
              "       [ 4160],\n",
              "       [ 6040],\n",
              "       [ 6862],\n",
              "       [ 4815],\n",
              "       [ 7000],\n",
              "       [ 8100],\n",
              "       [ 3420],\n",
              "       [ 9166],\n",
              "       [ 6321],\n",
              "       [10240],\n",
              "       [ 6440],\n",
              "       [ 5170],\n",
              "       [ 6000],\n",
              "       [ 3630],\n",
              "       [ 9667],\n",
              "       [ 5400],\n",
              "       [ 4320],\n",
              "       [ 3745],\n",
              "       [ 4160],\n",
              "       [ 3880],\n",
              "       [ 5680],\n",
              "       [ 2870],\n",
              "       [ 5010],\n",
              "       [ 4510],\n",
              "       [ 4000],\n",
              "       [ 3840],\n",
              "       [ 3760],\n",
              "       [ 3640],\n",
              "       [ 2550],\n",
              "       [ 5320],\n",
              "       [ 5360],\n",
              "       [ 3520],\n",
              "       [ 8400],\n",
              "       [ 4100],\n",
              "       [ 4990],\n",
              "       [ 3510],\n",
              "       [ 3450],\n",
              "       [ 9860],\n",
              "       [ 3520],\n",
              "       [ 4510],\n",
              "       [ 5885],\n",
              "       [ 4000],\n",
              "       [ 8250],\n",
              "       [ 4040],\n",
              "       [ 6360],\n",
              "       [ 3162],\n",
              "       [ 3510],\n",
              "       [ 3750],\n",
              "       [ 3968],\n",
              "       [ 4900],\n",
              "       [ 2880],\n",
              "       [ 4880],\n",
              "       [ 4920],\n",
              "       [ 4950],\n",
              "       [ 3900],\n",
              "       [ 4500],\n",
              "       [ 1905],\n",
              "       [ 4075],\n",
              "       [ 3500],\n",
              "       [ 6450],\n",
              "       [ 4032],\n",
              "       [ 4400],\n",
              "       [10360],\n",
              "       [ 3400],\n",
              "       [ 6360],\n",
              "       [ 6360],\n",
              "       [ 4500],\n",
              "       [ 2175],\n",
              "       [ 4360],\n",
              "       [ 7770],\n",
              "       [ 6650],\n",
              "       [ 2787],\n",
              "       [ 5500],\n",
              "       [ 5040],\n",
              "       [ 5850],\n",
              "       [ 2610],\n",
              "       [ 2953],\n",
              "       [ 2747],\n",
              "       [ 4410],\n",
              "       [ 4000],\n",
              "       [ 2325],\n",
              "       [ 4600],\n",
              "       [ 3640],\n",
              "       [ 5800],\n",
              "       [ 7000],\n",
              "       [ 4079],\n",
              "       [ 3520],\n",
              "       [ 2145],\n",
              "       [ 4500],\n",
              "       [ 8250],\n",
              "       [ 3450],\n",
              "       [ 4840],\n",
              "       [ 4080],\n",
              "       [ 4046],\n",
              "       [ 4632],\n",
              "       [ 5985],\n",
              "       [ 6060],\n",
              "       [ 3600],\n",
              "       [ 3680],\n",
              "       [ 4040],\n",
              "       [ 5600],\n",
              "       [ 5900],\n",
              "       [ 4992],\n",
              "       [ 4340],\n",
              "       [ 3000],\n",
              "       [ 4320],\n",
              "       [ 3630],\n",
              "       [ 3460],\n",
              "       [ 5400],\n",
              "       [ 4500],\n",
              "       [ 3460],\n",
              "       [ 4100],\n",
              "       [ 6480],\n",
              "       [ 4500],\n",
              "       [ 3960],\n",
              "       [ 4050],\n",
              "       [ 7260],\n",
              "       [ 5500],\n",
              "       [ 3000],\n",
              "       [ 3290],\n",
              "       [ 3816],\n",
              "       [ 8080],\n",
              "       [ 2145],\n",
              "       [ 3780],\n",
              "       [ 3180],\n",
              "       [ 5300],\n",
              "       [ 3180],\n",
              "       [ 7152],\n",
              "       [ 4080],\n",
              "       [ 3850],\n",
              "       [ 2015],\n",
              "       [ 2176],\n",
              "       [ 3350],\n",
              "       [ 3150],\n",
              "       [ 4820],\n",
              "       [ 3420],\n",
              "       [ 3600],\n",
              "       [ 5830],\n",
              "       [ 2856],\n",
              "       [ 8400],\n",
              "       [ 8250],\n",
              "       [ 2520],\n",
              "       [ 6930],\n",
              "       [ 3480],\n",
              "       [ 3600],\n",
              "       [ 4040],\n",
              "       [ 6020],\n",
              "       [ 4050],\n",
              "       [ 3584],\n",
              "       [ 3120],\n",
              "       [ 5450],\n",
              "       [ 3630],\n",
              "       [ 3630],\n",
              "       [ 5640],\n",
              "       [ 3600],\n",
              "       [ 4280],\n",
              "       [ 3570],\n",
              "       [ 3180],\n",
              "       [ 3000],\n",
              "       [ 3520],\n",
              "       [ 5960],\n",
              "       [ 4130],\n",
              "       [ 2850],\n",
              "       [ 2275],\n",
              "       [ 3520],\n",
              "       [ 4500],\n",
              "       [ 4000],\n",
              "       [ 3150],\n",
              "       [ 4500],\n",
              "       [ 4500],\n",
              "       [ 3640],\n",
              "       [ 3850],\n",
              "       [ 4240],\n",
              "       [ 3650],\n",
              "       [ 4600],\n",
              "       [ 2135],\n",
              "       [ 3036],\n",
              "       [ 3990],\n",
              "       [ 7424],\n",
              "       [ 3480],\n",
              "       [ 3600],\n",
              "       [ 3640],\n",
              "       [ 5900],\n",
              "       [ 3120],\n",
              "       [ 7350],\n",
              "       [ 3512],\n",
              "       [ 9500],\n",
              "       [ 5880],\n",
              "       [12944],\n",
              "       [ 4900],\n",
              "       [ 3060],\n",
              "       [ 5320],\n",
              "       [ 2145],\n",
              "       [ 4000],\n",
              "       [ 3185],\n",
              "       [ 3850],\n",
              "       [ 2145],\n",
              "       [ 2610],\n",
              "       [ 1950],\n",
              "       [ 4040],\n",
              "       [ 4785],\n",
              "       [ 3450],\n",
              "       [ 3640],\n",
              "       [ 3500],\n",
              "       [ 4960],\n",
              "       [ 4120],\n",
              "       [ 4750],\n",
              "       [ 3720],\n",
              "       [ 3750],\n",
              "       [ 3100],\n",
              "       [ 3185],\n",
              "       [ 2700],\n",
              "       [ 2145],\n",
              "       [ 4040],\n",
              "       [ 4775],\n",
              "       [ 2500],\n",
              "       [ 3180],\n",
              "       [ 6060],\n",
              "       [ 3480],\n",
              "       [ 3792],\n",
              "       [ 4040],\n",
              "       [ 2145],\n",
              "       [ 5880],\n",
              "       [ 4500],\n",
              "       [ 3930],\n",
              "       [ 3640],\n",
              "       [ 4370],\n",
              "       [ 2684],\n",
              "       [ 4320],\n",
              "       [ 3120],\n",
              "       [ 3450],\n",
              "       [ 3986],\n",
              "       [ 3500],\n",
              "       [ 4095],\n",
              "       [ 1650],\n",
              "       [ 3450],\n",
              "       [ 6750],\n",
              "       [ 9000],\n",
              "       [ 3069],\n",
              "       [ 4500],\n",
              "       [ 5495],\n",
              "       [ 2398],\n",
              "       [ 3000],\n",
              "       [ 3850],\n",
              "       [ 3500],\n",
              "       [ 8100],\n",
              "       [ 4960],\n",
              "       [ 2160],\n",
              "       [ 3090],\n",
              "       [ 4500],\n",
              "       [ 3800],\n",
              "       [ 3090],\n",
              "       [ 3240],\n",
              "       [ 2835],\n",
              "       [ 4600],\n",
              "       [ 5076],\n",
              "       [ 3750],\n",
              "       [ 3630],\n",
              "       [ 8050],\n",
              "       [ 4352],\n",
              "       [ 3000],\n",
              "       [ 5850],\n",
              "       [ 4960],\n",
              "       [ 3600],\n",
              "       [ 3660],\n",
              "       [ 3480],\n",
              "       [ 2700],\n",
              "       [ 3150],\n",
              "       [ 6615],\n",
              "       [ 3040],\n",
              "       [ 3630],\n",
              "       [ 6000],\n",
              "       [ 5400],\n",
              "       [ 5200],\n",
              "       [ 3300],\n",
              "       [ 4350],\n",
              "       [ 2640],\n",
              "       [ 2650],\n",
              "       [ 3960],\n",
              "       [ 6800],\n",
              "       [ 4000],\n",
              "       [ 4000],\n",
              "       [ 3934],\n",
              "       [ 2000],\n",
              "       [ 3630],\n",
              "       [ 2800],\n",
              "       [ 2430],\n",
              "       [ 3480],\n",
              "       [ 4000],\n",
              "       [ 3185],\n",
              "       [ 4000],\n",
              "       [ 2910],\n",
              "       [ 3600],\n",
              "       [ 4400],\n",
              "       [ 3600],\n",
              "       [ 2880],\n",
              "       [ 3180],\n",
              "       [ 3000],\n",
              "       [ 4400],\n",
              "       [ 3000],\n",
              "       [ 3210],\n",
              "       [ 3240],\n",
              "       [ 3000],\n",
              "       [ 3500],\n",
              "       [ 4840],\n",
              "       [ 7700],\n",
              "       [ 3635],\n",
              "       [ 2475],\n",
              "       [ 2787],\n",
              "       [ 3264],\n",
              "       [ 3640],\n",
              "       [ 3180],\n",
              "       [ 1836],\n",
              "       [ 3970],\n",
              "       [ 3970],\n",
              "       [ 1950],\n",
              "       [ 5300],\n",
              "       [ 3000],\n",
              "       [ 2400],\n",
              "       [ 3000],\n",
              "       [ 3360],\n",
              "       [ 3420],\n",
              "       [ 1700],\n",
              "       [ 3649],\n",
              "       [ 2990],\n",
              "       [ 3000],\n",
              "       [ 2400],\n",
              "       [ 3620],\n",
              "       [ 2910],\n",
              "       [ 3850]])"
            ]
          },
          "metadata": {},
          "execution_count": 54
        }
      ],
      "source": [
        "y"
      ]
    },
    {
      "cell_type": "code",
      "execution_count": 55,
      "metadata": {
        "colab": {
          "base_uri": "https://localhost:8080/"
        },
        "id": "BxLnse3ZfPFD",
        "outputId": "99794f51-b3d3-4307-e704-957a15470a22"
      },
      "outputs": [
        {
          "output_type": "execute_result",
          "data": {
            "text/plain": [
              "(545, 11)"
            ]
          },
          "metadata": {},
          "execution_count": 55
        }
      ],
      "source": [
        "x.shape"
      ]
    },
    {
      "cell_type": "code",
      "execution_count": 56,
      "metadata": {
        "colab": {
          "base_uri": "https://localhost:8080/"
        },
        "id": "MA6vtm80fokS",
        "outputId": "d2474e62-b56b-4bf8-8cf4-03ccb08afa77"
      },
      "outputs": [
        {
          "output_type": "execute_result",
          "data": {
            "text/plain": [
              "(545, 1)"
            ]
          },
          "metadata": {},
          "execution_count": 56
        }
      ],
      "source": [
        "y.shape"
      ]
    },
    {
      "cell_type": "markdown",
      "source": [
        "SCALE THE INDEPENDENT VARIABLES"
      ],
      "metadata": {
        "id": "GQsq1-W6lSrC"
      }
    },
    {
      "cell_type": "code",
      "source": [
        "from sklearn import preprocessing\n",
        "min_max_scaler = preprocessing.MinMaxScaler()\n",
        "X_train_minmax = min_max_scaler.fit_transform(S)\n",
        "X_train_minmax"
      ],
      "metadata": {
        "id": "HvWzZOanlc4y",
        "outputId": "bff87217-1d8b-4499-9b60-4bda185de34c",
        "colab": {
          "base_uri": "https://localhost:8080/"
        }
      },
      "execution_count": 81,
      "outputs": [
        {
          "output_type": "execute_result",
          "data": {
            "text/plain": [
              "array([[0.12419939, 0.2       , 0.        , ..., 0.        , 0.        ,\n",
              "        1.        ],\n",
              "       [0.15065441, 0.2       , 0.        , ..., 0.        , 0.        ,\n",
              "        1.        ],\n",
              "       [0.08382066, 0.2       , 0.        , ..., 0.        , 0.        ,\n",
              "        1.        ],\n",
              "       ...,\n",
              "       [0.27248677, 0.4       , 0.5       , ..., 1.        , 0.33333333,\n",
              "        1.        ],\n",
              "       [0.12280702, 0.4       , 0.        , ..., 0.        , 0.33333333,\n",
              "        1.        ],\n",
              "       [0.33166249, 0.4       , 0.        , ..., 0.        , 0.        ,\n",
              "        0.        ]])"
            ]
          },
          "metadata": {},
          "execution_count": 81
        }
      ]
    },
    {
      "cell_type": "code",
      "source": [
        "df"
      ],
      "metadata": {
        "id": "04nTtJA_ZYlF",
        "colab": {
          "base_uri": "https://localhost:8080/",
          "height": 467
        },
        "outputId": "745ed7e5-e4a5-4a10-a917-415d92694bcd"
      },
      "execution_count": 82,
      "outputs": [
        {
          "output_type": "execute_result",
          "data": {
            "text/plain": [
              "        price  area mainroad guestroom basement hotwaterheating  \\\n",
              "0    13300000  7420      yes        no       no              no   \n",
              "1    12250000  8960      yes        no       no              no   \n",
              "2    12250000  9960      yes        no      yes              no   \n",
              "3    12215000  7500      yes        no      yes              no   \n",
              "4    11410000  7420      yes       yes      yes              no   \n",
              "..        ...   ...      ...       ...      ...             ...   \n",
              "540   1820000  3000      yes        no      yes              no   \n",
              "541   1767150  2400       no        no       no              no   \n",
              "542   1750000  3620      yes        no       no              no   \n",
              "543   1750000  2910       no        no       no              no   \n",
              "544   1750000  3850      yes        no       no              no   \n",
              "\n",
              "    airconditioning  parking furnishingstatus  \n",
              "0               yes        2        furnished  \n",
              "1               yes        3        furnished  \n",
              "2                no        2   semi-furnished  \n",
              "3               yes        3        furnished  \n",
              "4               yes        2        furnished  \n",
              "..              ...      ...              ...  \n",
              "540              no        2      unfurnished  \n",
              "541              no        0   semi-furnished  \n",
              "542              no        0      unfurnished  \n",
              "543              no        0        furnished  \n",
              "544              no        0      unfurnished  \n",
              "\n",
              "[545 rows x 9 columns]"
            ],
            "text/html": [
              "\n",
              "  <div id=\"df-c237dcde-8e29-4ee7-a744-35e44bcbec2f\">\n",
              "    <div class=\"colab-df-container\">\n",
              "      <div>\n",
              "<style scoped>\n",
              "    .dataframe tbody tr th:only-of-type {\n",
              "        vertical-align: middle;\n",
              "    }\n",
              "\n",
              "    .dataframe tbody tr th {\n",
              "        vertical-align: top;\n",
              "    }\n",
              "\n",
              "    .dataframe thead th {\n",
              "        text-align: right;\n",
              "    }\n",
              "</style>\n",
              "<table border=\"1\" class=\"dataframe\">\n",
              "  <thead>\n",
              "    <tr style=\"text-align: right;\">\n",
              "      <th></th>\n",
              "      <th>price</th>\n",
              "      <th>area</th>\n",
              "      <th>mainroad</th>\n",
              "      <th>guestroom</th>\n",
              "      <th>basement</th>\n",
              "      <th>hotwaterheating</th>\n",
              "      <th>airconditioning</th>\n",
              "      <th>parking</th>\n",
              "      <th>furnishingstatus</th>\n",
              "    </tr>\n",
              "  </thead>\n",
              "  <tbody>\n",
              "    <tr>\n",
              "      <th>0</th>\n",
              "      <td>13300000</td>\n",
              "      <td>7420</td>\n",
              "      <td>yes</td>\n",
              "      <td>no</td>\n",
              "      <td>no</td>\n",
              "      <td>no</td>\n",
              "      <td>yes</td>\n",
              "      <td>2</td>\n",
              "      <td>furnished</td>\n",
              "    </tr>\n",
              "    <tr>\n",
              "      <th>1</th>\n",
              "      <td>12250000</td>\n",
              "      <td>8960</td>\n",
              "      <td>yes</td>\n",
              "      <td>no</td>\n",
              "      <td>no</td>\n",
              "      <td>no</td>\n",
              "      <td>yes</td>\n",
              "      <td>3</td>\n",
              "      <td>furnished</td>\n",
              "    </tr>\n",
              "    <tr>\n",
              "      <th>2</th>\n",
              "      <td>12250000</td>\n",
              "      <td>9960</td>\n",
              "      <td>yes</td>\n",
              "      <td>no</td>\n",
              "      <td>yes</td>\n",
              "      <td>no</td>\n",
              "      <td>no</td>\n",
              "      <td>2</td>\n",
              "      <td>semi-furnished</td>\n",
              "    </tr>\n",
              "    <tr>\n",
              "      <th>3</th>\n",
              "      <td>12215000</td>\n",
              "      <td>7500</td>\n",
              "      <td>yes</td>\n",
              "      <td>no</td>\n",
              "      <td>yes</td>\n",
              "      <td>no</td>\n",
              "      <td>yes</td>\n",
              "      <td>3</td>\n",
              "      <td>furnished</td>\n",
              "    </tr>\n",
              "    <tr>\n",
              "      <th>4</th>\n",
              "      <td>11410000</td>\n",
              "      <td>7420</td>\n",
              "      <td>yes</td>\n",
              "      <td>yes</td>\n",
              "      <td>yes</td>\n",
              "      <td>no</td>\n",
              "      <td>yes</td>\n",
              "      <td>2</td>\n",
              "      <td>furnished</td>\n",
              "    </tr>\n",
              "    <tr>\n",
              "      <th>...</th>\n",
              "      <td>...</td>\n",
              "      <td>...</td>\n",
              "      <td>...</td>\n",
              "      <td>...</td>\n",
              "      <td>...</td>\n",
              "      <td>...</td>\n",
              "      <td>...</td>\n",
              "      <td>...</td>\n",
              "      <td>...</td>\n",
              "    </tr>\n",
              "    <tr>\n",
              "      <th>540</th>\n",
              "      <td>1820000</td>\n",
              "      <td>3000</td>\n",
              "      <td>yes</td>\n",
              "      <td>no</td>\n",
              "      <td>yes</td>\n",
              "      <td>no</td>\n",
              "      <td>no</td>\n",
              "      <td>2</td>\n",
              "      <td>unfurnished</td>\n",
              "    </tr>\n",
              "    <tr>\n",
              "      <th>541</th>\n",
              "      <td>1767150</td>\n",
              "      <td>2400</td>\n",
              "      <td>no</td>\n",
              "      <td>no</td>\n",
              "      <td>no</td>\n",
              "      <td>no</td>\n",
              "      <td>no</td>\n",
              "      <td>0</td>\n",
              "      <td>semi-furnished</td>\n",
              "    </tr>\n",
              "    <tr>\n",
              "      <th>542</th>\n",
              "      <td>1750000</td>\n",
              "      <td>3620</td>\n",
              "      <td>yes</td>\n",
              "      <td>no</td>\n",
              "      <td>no</td>\n",
              "      <td>no</td>\n",
              "      <td>no</td>\n",
              "      <td>0</td>\n",
              "      <td>unfurnished</td>\n",
              "    </tr>\n",
              "    <tr>\n",
              "      <th>543</th>\n",
              "      <td>1750000</td>\n",
              "      <td>2910</td>\n",
              "      <td>no</td>\n",
              "      <td>no</td>\n",
              "      <td>no</td>\n",
              "      <td>no</td>\n",
              "      <td>no</td>\n",
              "      <td>0</td>\n",
              "      <td>furnished</td>\n",
              "    </tr>\n",
              "    <tr>\n",
              "      <th>544</th>\n",
              "      <td>1750000</td>\n",
              "      <td>3850</td>\n",
              "      <td>yes</td>\n",
              "      <td>no</td>\n",
              "      <td>no</td>\n",
              "      <td>no</td>\n",
              "      <td>no</td>\n",
              "      <td>0</td>\n",
              "      <td>unfurnished</td>\n",
              "    </tr>\n",
              "  </tbody>\n",
              "</table>\n",
              "<p>545 rows × 9 columns</p>\n",
              "</div>\n",
              "      <button class=\"colab-df-convert\" onclick=\"convertToInteractive('df-c237dcde-8e29-4ee7-a744-35e44bcbec2f')\"\n",
              "              title=\"Convert this dataframe to an interactive table.\"\n",
              "              style=\"display:none;\">\n",
              "        \n",
              "  <svg xmlns=\"http://www.w3.org/2000/svg\" height=\"24px\"viewBox=\"0 0 24 24\"\n",
              "       width=\"24px\">\n",
              "    <path d=\"M0 0h24v24H0V0z\" fill=\"none\"/>\n",
              "    <path d=\"M18.56 5.44l.94 2.06.94-2.06 2.06-.94-2.06-.94-.94-2.06-.94 2.06-2.06.94zm-11 1L8.5 8.5l.94-2.06 2.06-.94-2.06-.94L8.5 2.5l-.94 2.06-2.06.94zm10 10l.94 2.06.94-2.06 2.06-.94-2.06-.94-.94-2.06-.94 2.06-2.06.94z\"/><path d=\"M17.41 7.96l-1.37-1.37c-.4-.4-.92-.59-1.43-.59-.52 0-1.04.2-1.43.59L10.3 9.45l-7.72 7.72c-.78.78-.78 2.05 0 2.83L4 21.41c.39.39.9.59 1.41.59.51 0 1.02-.2 1.41-.59l7.78-7.78 2.81-2.81c.8-.78.8-2.07 0-2.86zM5.41 20L4 18.59l7.72-7.72 1.47 1.35L5.41 20z\"/>\n",
              "  </svg>\n",
              "      </button>\n",
              "      \n",
              "  <style>\n",
              "    .colab-df-container {\n",
              "      display:flex;\n",
              "      flex-wrap:wrap;\n",
              "      gap: 12px;\n",
              "    }\n",
              "\n",
              "    .colab-df-convert {\n",
              "      background-color: #E8F0FE;\n",
              "      border: none;\n",
              "      border-radius: 50%;\n",
              "      cursor: pointer;\n",
              "      display: none;\n",
              "      fill: #1967D2;\n",
              "      height: 32px;\n",
              "      padding: 0 0 0 0;\n",
              "      width: 32px;\n",
              "    }\n",
              "\n",
              "    .colab-df-convert:hover {\n",
              "      background-color: #E2EBFA;\n",
              "      box-shadow: 0px 1px 2px rgba(60, 64, 67, 0.3), 0px 1px 3px 1px rgba(60, 64, 67, 0.15);\n",
              "      fill: #174EA6;\n",
              "    }\n",
              "\n",
              "    [theme=dark] .colab-df-convert {\n",
              "      background-color: #3B4455;\n",
              "      fill: #D2E3FC;\n",
              "    }\n",
              "\n",
              "    [theme=dark] .colab-df-convert:hover {\n",
              "      background-color: #434B5C;\n",
              "      box-shadow: 0px 1px 3px 1px rgba(0, 0, 0, 0.15);\n",
              "      filter: drop-shadow(0px 1px 2px rgba(0, 0, 0, 0.3));\n",
              "      fill: #FFFFFF;\n",
              "    }\n",
              "  </style>\n",
              "\n",
              "      <script>\n",
              "        const buttonEl =\n",
              "          document.querySelector('#df-c237dcde-8e29-4ee7-a744-35e44bcbec2f button.colab-df-convert');\n",
              "        buttonEl.style.display =\n",
              "          google.colab.kernel.accessAllowed ? 'block' : 'none';\n",
              "\n",
              "        async function convertToInteractive(key) {\n",
              "          const element = document.querySelector('#df-c237dcde-8e29-4ee7-a744-35e44bcbec2f');\n",
              "          const dataTable =\n",
              "            await google.colab.kernel.invokeFunction('convertToInteractive',\n",
              "                                                     [key], {});\n",
              "          if (!dataTable) return;\n",
              "\n",
              "          const docLinkHtml = 'Like what you see? Visit the ' +\n",
              "            '<a target=\"_blank\" href=https://colab.research.google.com/notebooks/data_table.ipynb>data table notebook</a>'\n",
              "            + ' to learn more about interactive tables.';\n",
              "          element.innerHTML = '';\n",
              "          dataTable['output_type'] = 'display_data';\n",
              "          await google.colab.output.renderOutput(dataTable, element);\n",
              "          const docLink = document.createElement('div');\n",
              "          docLink.innerHTML = docLinkHtml;\n",
              "          element.appendChild(docLink);\n",
              "        }\n",
              "      </script>\n",
              "    </div>\n",
              "  </div>\n",
              "  "
            ]
          },
          "metadata": {},
          "execution_count": 82
        }
      ]
    },
    {
      "cell_type": "code",
      "source": [
        "x"
      ],
      "metadata": {
        "colab": {
          "base_uri": "https://localhost:8080/"
        },
        "id": "xDgk0FIvZiAY",
        "outputId": "dc37f716-19a4-4318-c236-4f07d1752e3b"
      },
      "execution_count": 83,
      "outputs": [
        {
          "output_type": "execute_result",
          "data": {
            "text/plain": [
              "array([[7420, 4, 2, ..., 1, 2, 0],\n",
              "       [8960, 4, 4, ..., 1, 3, 0],\n",
              "       [9960, 3, 2, ..., 0, 2, 1],\n",
              "       ...,\n",
              "       [3620, 2, 1, ..., 0, 0, 2],\n",
              "       [2910, 3, 1, ..., 0, 0, 0],\n",
              "       [3850, 3, 1, ..., 0, 0, 2]], dtype=object)"
            ]
          },
          "metadata": {},
          "execution_count": 83
        }
      ]
    },
    {
      "cell_type": "code",
      "execution_count": 58,
      "metadata": {
        "id": "ghRXrbJ8gIRS"
      },
      "outputs": [],
      "source": [
        "from sklearn.preprocessing import OneHotEncoder,LabelEncoder\n",
        "one = OneHotEncoder()\n",
        "lb=LabelEncoder()\n",
        "x[:,4] = lb.fit_transform(x[:,4])\n",
        "x[:,5] = lb.fit_transform(x[:,5])\n",
        "x[:,6] = lb.fit_transform(x[:,6])\n",
        "x[:,7] = lb.fit_transform(x[:,7])\n",
        "x[:,8] = lb.fit_transform(x[:,8])\n",
        "x[:,10] = lb.fit_transform(x[:,10])"
      ]
    },
    {
      "cell_type": "code",
      "execution_count": 59,
      "metadata": {
        "colab": {
          "base_uri": "https://localhost:8080/"
        },
        "id": "ejR6DibAuXX9",
        "outputId": "fc363480-cb3c-4f6f-bd11-1562b0c3f892"
      },
      "outputs": [
        {
          "output_type": "execute_result",
          "data": {
            "text/plain": [
              "array([7420, 4, 2, 3, 1, 0, 0, 0, 1, 2, 0], dtype=object)"
            ]
          },
          "metadata": {},
          "execution_count": 59
        }
      ],
      "source": [
        "x[0]"
      ]
    },
    {
      "cell_type": "code",
      "execution_count": 60,
      "metadata": {
        "id": "3hzhK66yhYMU"
      },
      "outputs": [],
      "source": [
        "x=np.delete(x,3,axis=1)"
      ]
    },
    {
      "cell_type": "markdown",
      "metadata": {
        "id": "XyRnL994nycO"
      },
      "source": [
        "SPLIT THE DATA INTO TRAINING AND TESTING"
      ]
    },
    {
      "cell_type": "code",
      "execution_count": 61,
      "metadata": {
        "id": "dOg_zflzlKbL"
      },
      "outputs": [],
      "source": [
        "from sklearn.model_selection import train_test_split\n",
        "x_train,x_test,y_train,y_test=train_test_split(x,y,test_size=0.2,random_state=0)"
      ]
    },
    {
      "cell_type": "code",
      "execution_count": 62,
      "metadata": {
        "id": "VwzIyYtgoPzv",
        "colab": {
          "base_uri": "https://localhost:8080/"
        },
        "outputId": "da812675-9f8b-4ca0-ff01-fe9753fb2bc9"
      },
      "outputs": [
        {
          "output_type": "execute_result",
          "data": {
            "text/plain": [
              "(436, 10)"
            ]
          },
          "metadata": {},
          "execution_count": 62
        }
      ],
      "source": [
        "x_train.shape"
      ]
    },
    {
      "cell_type": "code",
      "execution_count": 63,
      "metadata": {
        "id": "JZ69bBV4oxmf",
        "colab": {
          "base_uri": "https://localhost:8080/"
        },
        "outputId": "a07ca52f-5fc8-4e70-8819-6bfaac3aa202"
      },
      "outputs": [
        {
          "output_type": "execute_result",
          "data": {
            "text/plain": [
              "(109, 10)"
            ]
          },
          "metadata": {},
          "execution_count": 63
        }
      ],
      "source": [
        "x_test.shape"
      ]
    },
    {
      "cell_type": "code",
      "execution_count": 64,
      "metadata": {
        "id": "OE0bqcqdo1jJ",
        "colab": {
          "base_uri": "https://localhost:8080/"
        },
        "outputId": "ce8715f1-ed64-4882-88be-f1d959805c23"
      },
      "outputs": [
        {
          "output_type": "execute_result",
          "data": {
            "text/plain": [
              "(436, 1)"
            ]
          },
          "metadata": {},
          "execution_count": 64
        }
      ],
      "source": [
        "y_train.shape"
      ]
    },
    {
      "cell_type": "code",
      "execution_count": 65,
      "metadata": {
        "id": "F_rIRzmjo8yF",
        "colab": {
          "base_uri": "https://localhost:8080/"
        },
        "outputId": "1a550448-fac2-4097-98bf-08da99f1e6c4"
      },
      "outputs": [
        {
          "output_type": "execute_result",
          "data": {
            "text/plain": [
              "(109, 1)"
            ]
          },
          "metadata": {},
          "execution_count": 65
        }
      ],
      "source": [
        "y_test.shape"
      ]
    },
    {
      "cell_type": "code",
      "source": [
        "x"
      ],
      "metadata": {
        "id": "0qmxiacDQfGe",
        "colab": {
          "base_uri": "https://localhost:8080/"
        },
        "outputId": "68dcfc32-67f7-48af-84ab-268e69016c23"
      },
      "execution_count": 66,
      "outputs": [
        {
          "output_type": "execute_result",
          "data": {
            "text/plain": [
              "array([[7420, 4, 2, ..., 1, 2, 0],\n",
              "       [8960, 4, 4, ..., 1, 3, 0],\n",
              "       [9960, 3, 2, ..., 0, 2, 1],\n",
              "       ...,\n",
              "       [3620, 2, 1, ..., 0, 0, 2],\n",
              "       [2910, 3, 1, ..., 0, 0, 0],\n",
              "       [3850, 3, 1, ..., 0, 0, 2]], dtype=object)"
            ]
          },
          "metadata": {},
          "execution_count": 66
        }
      ]
    },
    {
      "cell_type": "code",
      "source": [
        "y"
      ],
      "metadata": {
        "id": "u1vJpg6KQhrv",
        "colab": {
          "base_uri": "https://localhost:8080/"
        },
        "outputId": "d9b24445-d765-4542-87f6-df8ec8f0090c"
      },
      "execution_count": 67,
      "outputs": [
        {
          "output_type": "execute_result",
          "data": {
            "text/plain": [
              "array([[ 7420],\n",
              "       [ 8960],\n",
              "       [ 9960],\n",
              "       [ 7500],\n",
              "       [ 7420],\n",
              "       [ 7500],\n",
              "       [ 8580],\n",
              "       [16200],\n",
              "       [ 8100],\n",
              "       [ 5750],\n",
              "       [13200],\n",
              "       [ 6000],\n",
              "       [ 6550],\n",
              "       [ 3500],\n",
              "       [ 7800],\n",
              "       [ 6000],\n",
              "       [ 6600],\n",
              "       [ 8500],\n",
              "       [ 4600],\n",
              "       [ 6420],\n",
              "       [ 4320],\n",
              "       [ 7155],\n",
              "       [ 8050],\n",
              "       [ 4560],\n",
              "       [ 8800],\n",
              "       [ 6540],\n",
              "       [ 6000],\n",
              "       [ 8875],\n",
              "       [ 7950],\n",
              "       [ 5500],\n",
              "       [ 7475],\n",
              "       [ 7000],\n",
              "       [ 4880],\n",
              "       [ 5960],\n",
              "       [ 6840],\n",
              "       [ 7000],\n",
              "       [ 7482],\n",
              "       [ 9000],\n",
              "       [ 6000],\n",
              "       [ 6000],\n",
              "       [ 6550],\n",
              "       [ 6360],\n",
              "       [ 6480],\n",
              "       [ 6000],\n",
              "       [ 6000],\n",
              "       [ 6000],\n",
              "       [ 6000],\n",
              "       [ 6600],\n",
              "       [ 4300],\n",
              "       [ 7440],\n",
              "       [ 7440],\n",
              "       [ 6325],\n",
              "       [ 6000],\n",
              "       [ 5150],\n",
              "       [ 6000],\n",
              "       [ 6000],\n",
              "       [11440],\n",
              "       [ 9000],\n",
              "       [ 7680],\n",
              "       [ 6000],\n",
              "       [ 6000],\n",
              "       [ 8880],\n",
              "       [ 6240],\n",
              "       [ 6360],\n",
              "       [11175],\n",
              "       [ 8880],\n",
              "       [13200],\n",
              "       [ 7700],\n",
              "       [ 6000],\n",
              "       [12090],\n",
              "       [ 4000],\n",
              "       [ 6000],\n",
              "       [ 5020],\n",
              "       [ 6600],\n",
              "       [ 4040],\n",
              "       [ 4260],\n",
              "       [ 6420],\n",
              "       [ 6500],\n",
              "       [ 5700],\n",
              "       [ 6000],\n",
              "       [ 6000],\n",
              "       [ 4000],\n",
              "       [10500],\n",
              "       [ 6000],\n",
              "       [ 3760],\n",
              "       [ 8250],\n",
              "       [ 6670],\n",
              "       [ 3960],\n",
              "       [ 7410],\n",
              "       [ 8580],\n",
              "       [ 5000],\n",
              "       [ 6750],\n",
              "       [ 4800],\n",
              "       [ 7200],\n",
              "       [ 6000],\n",
              "       [ 4100],\n",
              "       [ 9000],\n",
              "       [ 6400],\n",
              "       [ 6600],\n",
              "       [ 6000],\n",
              "       [ 6600],\n",
              "       [ 5500],\n",
              "       [ 5500],\n",
              "       [ 6350],\n",
              "       [ 5500],\n",
              "       [ 4500],\n",
              "       [ 5450],\n",
              "       [ 6420],\n",
              "       [ 3240],\n",
              "       [ 6615],\n",
              "       [ 6600],\n",
              "       [ 8372],\n",
              "       [ 4300],\n",
              "       [ 9620],\n",
              "       [ 6800],\n",
              "       [ 8000],\n",
              "       [ 6900],\n",
              "       [ 3700],\n",
              "       [ 6420],\n",
              "       [ 7020],\n",
              "       [ 6540],\n",
              "       [ 7231],\n",
              "       [ 6254],\n",
              "       [ 7320],\n",
              "       [ 6525],\n",
              "       [15600],\n",
              "       [ 7160],\n",
              "       [ 6500],\n",
              "       [ 5500],\n",
              "       [11460],\n",
              "       [ 4800],\n",
              "       [ 5828],\n",
              "       [ 5200],\n",
              "       [ 4800],\n",
              "       [ 7000],\n",
              "       [ 6000],\n",
              "       [ 5400],\n",
              "       [ 4640],\n",
              "       [ 5000],\n",
              "       [ 6360],\n",
              "       [ 5800],\n",
              "       [ 6660],\n",
              "       [10500],\n",
              "       [ 4800],\n",
              "       [ 4700],\n",
              "       [ 5000],\n",
              "       [10500],\n",
              "       [ 5500],\n",
              "       [ 6360],\n",
              "       [ 6600],\n",
              "       [ 5136],\n",
              "       [ 4400],\n",
              "       [ 5400],\n",
              "       [ 3300],\n",
              "       [ 3650],\n",
              "       [ 6100],\n",
              "       [ 6900],\n",
              "       [ 2817],\n",
              "       [ 7980],\n",
              "       [ 3150],\n",
              "       [ 6210],\n",
              "       [ 6100],\n",
              "       [ 6600],\n",
              "       [ 6825],\n",
              "       [ 6710],\n",
              "       [ 6450],\n",
              "       [ 7800],\n",
              "       [ 4600],\n",
              "       [ 4260],\n",
              "       [ 6540],\n",
              "       [ 5500],\n",
              "       [10269],\n",
              "       [ 8400],\n",
              "       [ 5300],\n",
              "       [ 3800],\n",
              "       [ 9800],\n",
              "       [ 8520],\n",
              "       [ 6050],\n",
              "       [ 7085],\n",
              "       [ 3180],\n",
              "       [ 4500],\n",
              "       [ 7200],\n",
              "       [ 3410],\n",
              "       [ 7980],\n",
              "       [ 3000],\n",
              "       [ 3000],\n",
              "       [11410],\n",
              "       [ 6100],\n",
              "       [ 5720],\n",
              "       [ 3540],\n",
              "       [ 7600],\n",
              "       [10700],\n",
              "       [ 6600],\n",
              "       [ 4800],\n",
              "       [ 8150],\n",
              "       [ 4410],\n",
              "       [ 7686],\n",
              "       [ 2800],\n",
              "       [ 5948],\n",
              "       [ 4200],\n",
              "       [ 4520],\n",
              "       [ 4095],\n",
              "       [ 4120],\n",
              "       [ 5400],\n",
              "       [ 4770],\n",
              "       [ 6300],\n",
              "       [ 5800],\n",
              "       [ 3000],\n",
              "       [ 2970],\n",
              "       [ 6720],\n",
              "       [ 4646],\n",
              "       [12900],\n",
              "       [ 3420],\n",
              "       [ 4995],\n",
              "       [ 4350],\n",
              "       [ 4160],\n",
              "       [ 6040],\n",
              "       [ 6862],\n",
              "       [ 4815],\n",
              "       [ 7000],\n",
              "       [ 8100],\n",
              "       [ 3420],\n",
              "       [ 9166],\n",
              "       [ 6321],\n",
              "       [10240],\n",
              "       [ 6440],\n",
              "       [ 5170],\n",
              "       [ 6000],\n",
              "       [ 3630],\n",
              "       [ 9667],\n",
              "       [ 5400],\n",
              "       [ 4320],\n",
              "       [ 3745],\n",
              "       [ 4160],\n",
              "       [ 3880],\n",
              "       [ 5680],\n",
              "       [ 2870],\n",
              "       [ 5010],\n",
              "       [ 4510],\n",
              "       [ 4000],\n",
              "       [ 3840],\n",
              "       [ 3760],\n",
              "       [ 3640],\n",
              "       [ 2550],\n",
              "       [ 5320],\n",
              "       [ 5360],\n",
              "       [ 3520],\n",
              "       [ 8400],\n",
              "       [ 4100],\n",
              "       [ 4990],\n",
              "       [ 3510],\n",
              "       [ 3450],\n",
              "       [ 9860],\n",
              "       [ 3520],\n",
              "       [ 4510],\n",
              "       [ 5885],\n",
              "       [ 4000],\n",
              "       [ 8250],\n",
              "       [ 4040],\n",
              "       [ 6360],\n",
              "       [ 3162],\n",
              "       [ 3510],\n",
              "       [ 3750],\n",
              "       [ 3968],\n",
              "       [ 4900],\n",
              "       [ 2880],\n",
              "       [ 4880],\n",
              "       [ 4920],\n",
              "       [ 4950],\n",
              "       [ 3900],\n",
              "       [ 4500],\n",
              "       [ 1905],\n",
              "       [ 4075],\n",
              "       [ 3500],\n",
              "       [ 6450],\n",
              "       [ 4032],\n",
              "       [ 4400],\n",
              "       [10360],\n",
              "       [ 3400],\n",
              "       [ 6360],\n",
              "       [ 6360],\n",
              "       [ 4500],\n",
              "       [ 2175],\n",
              "       [ 4360],\n",
              "       [ 7770],\n",
              "       [ 6650],\n",
              "       [ 2787],\n",
              "       [ 5500],\n",
              "       [ 5040],\n",
              "       [ 5850],\n",
              "       [ 2610],\n",
              "       [ 2953],\n",
              "       [ 2747],\n",
              "       [ 4410],\n",
              "       [ 4000],\n",
              "       [ 2325],\n",
              "       [ 4600],\n",
              "       [ 3640],\n",
              "       [ 5800],\n",
              "       [ 7000],\n",
              "       [ 4079],\n",
              "       [ 3520],\n",
              "       [ 2145],\n",
              "       [ 4500],\n",
              "       [ 8250],\n",
              "       [ 3450],\n",
              "       [ 4840],\n",
              "       [ 4080],\n",
              "       [ 4046],\n",
              "       [ 4632],\n",
              "       [ 5985],\n",
              "       [ 6060],\n",
              "       [ 3600],\n",
              "       [ 3680],\n",
              "       [ 4040],\n",
              "       [ 5600],\n",
              "       [ 5900],\n",
              "       [ 4992],\n",
              "       [ 4340],\n",
              "       [ 3000],\n",
              "       [ 4320],\n",
              "       [ 3630],\n",
              "       [ 3460],\n",
              "       [ 5400],\n",
              "       [ 4500],\n",
              "       [ 3460],\n",
              "       [ 4100],\n",
              "       [ 6480],\n",
              "       [ 4500],\n",
              "       [ 3960],\n",
              "       [ 4050],\n",
              "       [ 7260],\n",
              "       [ 5500],\n",
              "       [ 3000],\n",
              "       [ 3290],\n",
              "       [ 3816],\n",
              "       [ 8080],\n",
              "       [ 2145],\n",
              "       [ 3780],\n",
              "       [ 3180],\n",
              "       [ 5300],\n",
              "       [ 3180],\n",
              "       [ 7152],\n",
              "       [ 4080],\n",
              "       [ 3850],\n",
              "       [ 2015],\n",
              "       [ 2176],\n",
              "       [ 3350],\n",
              "       [ 3150],\n",
              "       [ 4820],\n",
              "       [ 3420],\n",
              "       [ 3600],\n",
              "       [ 5830],\n",
              "       [ 2856],\n",
              "       [ 8400],\n",
              "       [ 8250],\n",
              "       [ 2520],\n",
              "       [ 6930],\n",
              "       [ 3480],\n",
              "       [ 3600],\n",
              "       [ 4040],\n",
              "       [ 6020],\n",
              "       [ 4050],\n",
              "       [ 3584],\n",
              "       [ 3120],\n",
              "       [ 5450],\n",
              "       [ 3630],\n",
              "       [ 3630],\n",
              "       [ 5640],\n",
              "       [ 3600],\n",
              "       [ 4280],\n",
              "       [ 3570],\n",
              "       [ 3180],\n",
              "       [ 3000],\n",
              "       [ 3520],\n",
              "       [ 5960],\n",
              "       [ 4130],\n",
              "       [ 2850],\n",
              "       [ 2275],\n",
              "       [ 3520],\n",
              "       [ 4500],\n",
              "       [ 4000],\n",
              "       [ 3150],\n",
              "       [ 4500],\n",
              "       [ 4500],\n",
              "       [ 3640],\n",
              "       [ 3850],\n",
              "       [ 4240],\n",
              "       [ 3650],\n",
              "       [ 4600],\n",
              "       [ 2135],\n",
              "       [ 3036],\n",
              "       [ 3990],\n",
              "       [ 7424],\n",
              "       [ 3480],\n",
              "       [ 3600],\n",
              "       [ 3640],\n",
              "       [ 5900],\n",
              "       [ 3120],\n",
              "       [ 7350],\n",
              "       [ 3512],\n",
              "       [ 9500],\n",
              "       [ 5880],\n",
              "       [12944],\n",
              "       [ 4900],\n",
              "       [ 3060],\n",
              "       [ 5320],\n",
              "       [ 2145],\n",
              "       [ 4000],\n",
              "       [ 3185],\n",
              "       [ 3850],\n",
              "       [ 2145],\n",
              "       [ 2610],\n",
              "       [ 1950],\n",
              "       [ 4040],\n",
              "       [ 4785],\n",
              "       [ 3450],\n",
              "       [ 3640],\n",
              "       [ 3500],\n",
              "       [ 4960],\n",
              "       [ 4120],\n",
              "       [ 4750],\n",
              "       [ 3720],\n",
              "       [ 3750],\n",
              "       [ 3100],\n",
              "       [ 3185],\n",
              "       [ 2700],\n",
              "       [ 2145],\n",
              "       [ 4040],\n",
              "       [ 4775],\n",
              "       [ 2500],\n",
              "       [ 3180],\n",
              "       [ 6060],\n",
              "       [ 3480],\n",
              "       [ 3792],\n",
              "       [ 4040],\n",
              "       [ 2145],\n",
              "       [ 5880],\n",
              "       [ 4500],\n",
              "       [ 3930],\n",
              "       [ 3640],\n",
              "       [ 4370],\n",
              "       [ 2684],\n",
              "       [ 4320],\n",
              "       [ 3120],\n",
              "       [ 3450],\n",
              "       [ 3986],\n",
              "       [ 3500],\n",
              "       [ 4095],\n",
              "       [ 1650],\n",
              "       [ 3450],\n",
              "       [ 6750],\n",
              "       [ 9000],\n",
              "       [ 3069],\n",
              "       [ 4500],\n",
              "       [ 5495],\n",
              "       [ 2398],\n",
              "       [ 3000],\n",
              "       [ 3850],\n",
              "       [ 3500],\n",
              "       [ 8100],\n",
              "       [ 4960],\n",
              "       [ 2160],\n",
              "       [ 3090],\n",
              "       [ 4500],\n",
              "       [ 3800],\n",
              "       [ 3090],\n",
              "       [ 3240],\n",
              "       [ 2835],\n",
              "       [ 4600],\n",
              "       [ 5076],\n",
              "       [ 3750],\n",
              "       [ 3630],\n",
              "       [ 8050],\n",
              "       [ 4352],\n",
              "       [ 3000],\n",
              "       [ 5850],\n",
              "       [ 4960],\n",
              "       [ 3600],\n",
              "       [ 3660],\n",
              "       [ 3480],\n",
              "       [ 2700],\n",
              "       [ 3150],\n",
              "       [ 6615],\n",
              "       [ 3040],\n",
              "       [ 3630],\n",
              "       [ 6000],\n",
              "       [ 5400],\n",
              "       [ 5200],\n",
              "       [ 3300],\n",
              "       [ 4350],\n",
              "       [ 2640],\n",
              "       [ 2650],\n",
              "       [ 3960],\n",
              "       [ 6800],\n",
              "       [ 4000],\n",
              "       [ 4000],\n",
              "       [ 3934],\n",
              "       [ 2000],\n",
              "       [ 3630],\n",
              "       [ 2800],\n",
              "       [ 2430],\n",
              "       [ 3480],\n",
              "       [ 4000],\n",
              "       [ 3185],\n",
              "       [ 4000],\n",
              "       [ 2910],\n",
              "       [ 3600],\n",
              "       [ 4400],\n",
              "       [ 3600],\n",
              "       [ 2880],\n",
              "       [ 3180],\n",
              "       [ 3000],\n",
              "       [ 4400],\n",
              "       [ 3000],\n",
              "       [ 3210],\n",
              "       [ 3240],\n",
              "       [ 3000],\n",
              "       [ 3500],\n",
              "       [ 4840],\n",
              "       [ 7700],\n",
              "       [ 3635],\n",
              "       [ 2475],\n",
              "       [ 2787],\n",
              "       [ 3264],\n",
              "       [ 3640],\n",
              "       [ 3180],\n",
              "       [ 1836],\n",
              "       [ 3970],\n",
              "       [ 3970],\n",
              "       [ 1950],\n",
              "       [ 5300],\n",
              "       [ 3000],\n",
              "       [ 2400],\n",
              "       [ 3000],\n",
              "       [ 3360],\n",
              "       [ 3420],\n",
              "       [ 1700],\n",
              "       [ 3649],\n",
              "       [ 2990],\n",
              "       [ 3000],\n",
              "       [ 2400],\n",
              "       [ 3620],\n",
              "       [ 2910],\n",
              "       [ 3850]])"
            ]
          },
          "metadata": {},
          "execution_count": 67
        }
      ]
    },
    {
      "cell_type": "markdown",
      "metadata": {
        "id": "KF5y3UfTpNV8"
      },
      "source": [
        "BUILD THE MODEL"
      ]
    },
    {
      "cell_type": "code",
      "source": [
        "from sklearn.preprocessing import PolynomialFeatures\n",
        "pr=PolynomialFeatures(degree=4)"
      ],
      "metadata": {
        "id": "0aZuqy8j3pg-"
      },
      "execution_count": 68,
      "outputs": []
    },
    {
      "cell_type": "code",
      "source": [
        "xp=pr.fit_transform(x,y)"
      ],
      "metadata": {
        "id": "4Y9bED0TLqIF"
      },
      "execution_count": 72,
      "outputs": []
    },
    {
      "cell_type": "code",
      "source": [
        "xp"
      ],
      "metadata": {
        "id": "JjyMUdl6OooL",
        "colab": {
          "base_uri": "https://localhost:8080/"
        },
        "outputId": "db4c1e0a-a457-426c-80d4-6b36758eaffb"
      },
      "execution_count": 73,
      "outputs": [
        {
          "output_type": "execute_result",
          "data": {
            "text/plain": [
              "array([[1.00e+00, 7.42e+03, 4.00e+00, ..., 0.00e+00, 0.00e+00, 0.00e+00],\n",
              "       [1.00e+00, 8.96e+03, 4.00e+00, ..., 0.00e+00, 0.00e+00, 0.00e+00],\n",
              "       [1.00e+00, 9.96e+03, 3.00e+00, ..., 4.00e+00, 2.00e+00, 1.00e+00],\n",
              "       ...,\n",
              "       [1.00e+00, 3.62e+03, 2.00e+00, ..., 0.00e+00, 0.00e+00, 1.60e+01],\n",
              "       [1.00e+00, 2.91e+03, 3.00e+00, ..., 0.00e+00, 0.00e+00, 0.00e+00],\n",
              "       [1.00e+00, 3.85e+03, 3.00e+00, ..., 0.00e+00, 0.00e+00, 1.60e+01]])"
            ]
          },
          "metadata": {},
          "execution_count": 73
        }
      ]
    },
    {
      "cell_type": "code",
      "source": [
        "S=x_train"
      ],
      "metadata": {
        "id": "BUmL2pV_2HWH"
      },
      "execution_count": 74,
      "outputs": []
    },
    {
      "cell_type": "code",
      "source": [
        "S1=y_train"
      ],
      "metadata": {
        "id": "dl9nMf642P0x"
      },
      "execution_count": 75,
      "outputs": []
    },
    {
      "cell_type": "code",
      "execution_count": 76,
      "metadata": {
        "id": "J-ZqYSnZpBAs"
      },
      "outputs": [],
      "source": [
        "from sklearn.linear_model import LinearRegression\n",
        "mlr=LinearRegression()\n"
      ]
    },
    {
      "cell_type": "code",
      "source": [
        "mlr.fit(S,S1)"
      ],
      "metadata": {
        "id": "w_DL3ngM_Jdn",
        "colab": {
          "base_uri": "https://localhost:8080/",
          "height": 74
        },
        "outputId": "074cb981-a599-4556-b946-642af74eb31e"
      },
      "execution_count": 77,
      "outputs": [
        {
          "output_type": "execute_result",
          "data": {
            "text/plain": [
              "LinearRegression()"
            ],
            "text/html": [
              "<style>#sk-container-id-1 {color: black;background-color: white;}#sk-container-id-1 pre{padding: 0;}#sk-container-id-1 div.sk-toggleable {background-color: white;}#sk-container-id-1 label.sk-toggleable__label {cursor: pointer;display: block;width: 100%;margin-bottom: 0;padding: 0.3em;box-sizing: border-box;text-align: center;}#sk-container-id-1 label.sk-toggleable__label-arrow:before {content: \"▸\";float: left;margin-right: 0.25em;color: #696969;}#sk-container-id-1 label.sk-toggleable__label-arrow:hover:before {color: black;}#sk-container-id-1 div.sk-estimator:hover label.sk-toggleable__label-arrow:before {color: black;}#sk-container-id-1 div.sk-toggleable__content {max-height: 0;max-width: 0;overflow: hidden;text-align: left;background-color: #f0f8ff;}#sk-container-id-1 div.sk-toggleable__content pre {margin: 0.2em;color: black;border-radius: 0.25em;background-color: #f0f8ff;}#sk-container-id-1 input.sk-toggleable__control:checked~div.sk-toggleable__content {max-height: 200px;max-width: 100%;overflow: auto;}#sk-container-id-1 input.sk-toggleable__control:checked~label.sk-toggleable__label-arrow:before {content: \"▾\";}#sk-container-id-1 div.sk-estimator input.sk-toggleable__control:checked~label.sk-toggleable__label {background-color: #d4ebff;}#sk-container-id-1 div.sk-label input.sk-toggleable__control:checked~label.sk-toggleable__label {background-color: #d4ebff;}#sk-container-id-1 input.sk-hidden--visually {border: 0;clip: rect(1px 1px 1px 1px);clip: rect(1px, 1px, 1px, 1px);height: 1px;margin: -1px;overflow: hidden;padding: 0;position: absolute;width: 1px;}#sk-container-id-1 div.sk-estimator {font-family: monospace;background-color: #f0f8ff;border: 1px dotted black;border-radius: 0.25em;box-sizing: border-box;margin-bottom: 0.5em;}#sk-container-id-1 div.sk-estimator:hover {background-color: #d4ebff;}#sk-container-id-1 div.sk-parallel-item::after {content: \"\";width: 100%;border-bottom: 1px solid gray;flex-grow: 1;}#sk-container-id-1 div.sk-label:hover label.sk-toggleable__label {background-color: #d4ebff;}#sk-container-id-1 div.sk-serial::before {content: \"\";position: absolute;border-left: 1px solid gray;box-sizing: border-box;top: 0;bottom: 0;left: 50%;z-index: 0;}#sk-container-id-1 div.sk-serial {display: flex;flex-direction: column;align-items: center;background-color: white;padding-right: 0.2em;padding-left: 0.2em;position: relative;}#sk-container-id-1 div.sk-item {position: relative;z-index: 1;}#sk-container-id-1 div.sk-parallel {display: flex;align-items: stretch;justify-content: center;background-color: white;position: relative;}#sk-container-id-1 div.sk-item::before, #sk-container-id-1 div.sk-parallel-item::before {content: \"\";position: absolute;border-left: 1px solid gray;box-sizing: border-box;top: 0;bottom: 0;left: 50%;z-index: -1;}#sk-container-id-1 div.sk-parallel-item {display: flex;flex-direction: column;z-index: 1;position: relative;background-color: white;}#sk-container-id-1 div.sk-parallel-item:first-child::after {align-self: flex-end;width: 50%;}#sk-container-id-1 div.sk-parallel-item:last-child::after {align-self: flex-start;width: 50%;}#sk-container-id-1 div.sk-parallel-item:only-child::after {width: 0;}#sk-container-id-1 div.sk-dashed-wrapped {border: 1px dashed gray;margin: 0 0.4em 0.5em 0.4em;box-sizing: border-box;padding-bottom: 0.4em;background-color: white;}#sk-container-id-1 div.sk-label label {font-family: monospace;font-weight: bold;display: inline-block;line-height: 1.2em;}#sk-container-id-1 div.sk-label-container {text-align: center;}#sk-container-id-1 div.sk-container {/* jupyter's `normalize.less` sets `[hidden] { display: none; }` but bootstrap.min.css set `[hidden] { display: none !important; }` so we also need the `!important` here to be able to override the default hidden behavior on the sphinx rendered scikit-learn.org. See: https://github.com/scikit-learn/scikit-learn/issues/21755 */display: inline-block !important;position: relative;}#sk-container-id-1 div.sk-text-repr-fallback {display: none;}</style><div id=\"sk-container-id-1\" class=\"sk-top-container\"><div class=\"sk-text-repr-fallback\"><pre>LinearRegression()</pre><b>In a Jupyter environment, please rerun this cell to show the HTML representation or trust the notebook. <br />On GitHub, the HTML representation is unable to render, please try loading this page with nbviewer.org.</b></div><div class=\"sk-container\" hidden><div class=\"sk-item\"><div class=\"sk-estimator sk-toggleable\"><input class=\"sk-toggleable__control sk-hidden--visually\" id=\"sk-estimator-id-1\" type=\"checkbox\" checked><label for=\"sk-estimator-id-1\" class=\"sk-toggleable__label sk-toggleable__label-arrow\">LinearRegression</label><div class=\"sk-toggleable__content\"><pre>LinearRegression()</pre></div></div></div></div></div>"
            ]
          },
          "metadata": {},
          "execution_count": 77
        }
      ]
    },
    {
      "cell_type": "code",
      "execution_count": 78,
      "metadata": {
        "id": "iw0LZkFqpzWQ"
      },
      "outputs": [],
      "source": [
        "ypred=mlr.predict(x_test)\n"
      ]
    },
    {
      "cell_type": "code",
      "source": [
        "ypred"
      ],
      "metadata": {
        "colab": {
          "base_uri": "https://localhost:8080/"
        },
        "id": "bccfej1GhQX_",
        "outputId": "12a6f8fc-52ce-43a5-c2d1-b5093978da50"
      },
      "execution_count": 79,
      "outputs": [
        {
          "output_type": "execute_result",
          "data": {
            "text/plain": [
              "array([[ 4000.],\n",
              "       [ 9620.],\n",
              "       [ 3460.],\n",
              "       [13200.],\n",
              "       [ 3660.],\n",
              "       [ 6350.],\n",
              "       [ 3850.],\n",
              "       [ 3480.],\n",
              "       [ 3512.],\n",
              "       [ 9000.],\n",
              "       [ 6000.],\n",
              "       [ 3960.],\n",
              "       [ 3450.],\n",
              "       [ 6060.],\n",
              "       [ 5985.],\n",
              "       [ 2430.],\n",
              "       [ 4900.],\n",
              "       [ 6020.],\n",
              "       [ 3100.],\n",
              "       [ 4500.],\n",
              "       [ 8150.],\n",
              "       [ 6450.],\n",
              "       [ 5000.],\n",
              "       [ 1700.],\n",
              "       [ 6420.],\n",
              "       [ 3150.],\n",
              "       [ 7000.],\n",
              "       [ 5680.],\n",
              "       [ 3300.],\n",
              "       [ 6420.],\n",
              "       [ 4400.],\n",
              "       [ 2275.],\n",
              "       [ 8400.],\n",
              "       [ 4040.],\n",
              "       [ 3120.],\n",
              "       [ 6440.],\n",
              "       [ 6000.],\n",
              "       [ 3036.],\n",
              "       [ 3450.],\n",
              "       [ 2175.],\n",
              "       [ 8500.],\n",
              "       [ 5900.],\n",
              "       [ 5800.],\n",
              "       [ 5495.],\n",
              "       [ 3520.],\n",
              "       [ 6000.],\n",
              "       [ 4160.],\n",
              "       [ 4040.],\n",
              "       [ 4046.],\n",
              "       [ 5700.],\n",
              "       [ 4840.],\n",
              "       [ 9667.],\n",
              "       [ 1650.],\n",
              "       [ 3850.],\n",
              "       [ 5880.],\n",
              "       [ 5720.],\n",
              "       [ 8250.],\n",
              "       [ 4640.],\n",
              "       [ 3600.],\n",
              "       [ 7000.],\n",
              "       [12900.],\n",
              "       [ 6600.],\n",
              "       [ 2135.],\n",
              "       [ 6000.],\n",
              "       [ 2640.],\n",
              "       [ 2817.],\n",
              "       [ 7155.],\n",
              "       [ 4410.],\n",
              "       [ 4500.],\n",
              "       [ 6300.],\n",
              "       [ 2145.],\n",
              "       [ 5500.],\n",
              "       [ 3600.],\n",
              "       [ 4260.],\n",
              "       [ 3780.],\n",
              "       [ 2870.],\n",
              "       [ 3420.],\n",
              "       [ 8580.],\n",
              "       [ 2910.],\n",
              "       [ 4000.],\n",
              "       [ 2145.],\n",
              "       [ 7686.],\n",
              "       [ 4510.],\n",
              "       [ 7152.],\n",
              "       [ 4600.],\n",
              "       [ 3240.],\n",
              "       [ 3420.],\n",
              "       [ 5800.],\n",
              "       [ 3150.],\n",
              "       [ 4075.],\n",
              "       [ 7424.],\n",
              "       [ 9000.],\n",
              "       [ 3640.],\n",
              "       [ 3150.],\n",
              "       [ 2145.],\n",
              "       [ 8960.],\n",
              "       [ 2160.],\n",
              "       [ 6550.],\n",
              "       [ 7770.],\n",
              "       [ 8400.],\n",
              "       [10500.],\n",
              "       [ 3480.],\n",
              "       [ 2787.],\n",
              "       [ 3000.],\n",
              "       [ 6420.],\n",
              "       [ 5200.],\n",
              "       [ 6060.],\n",
              "       [ 4500.],\n",
              "       [ 6100.]])"
            ]
          },
          "metadata": {},
          "execution_count": 79
        }
      ]
    },
    {
      "cell_type": "code",
      "execution_count": 70,
      "metadata": {
        "id": "62JcUdjyqEQz",
        "colab": {
          "base_uri": "https://localhost:8080/"
        },
        "outputId": "c9b25027-1181-456f-bbe0-63c14ce73ec6"
      },
      "outputs": [
        {
          "output_type": "execute_result",
          "data": {
            "text/plain": [
              "array([[ 4000],\n",
              "       [ 9620],\n",
              "       [ 3460],\n",
              "       [13200],\n",
              "       [ 3660],\n",
              "       [ 6350],\n",
              "       [ 3850],\n",
              "       [ 3480],\n",
              "       [ 3512],\n",
              "       [ 9000],\n",
              "       [ 6000],\n",
              "       [ 3960],\n",
              "       [ 3450],\n",
              "       [ 6060],\n",
              "       [ 5985],\n",
              "       [ 2430],\n",
              "       [ 4900],\n",
              "       [ 6020],\n",
              "       [ 3100],\n",
              "       [ 4500],\n",
              "       [ 8150],\n",
              "       [ 6450],\n",
              "       [ 5000],\n",
              "       [ 1700],\n",
              "       [ 6420],\n",
              "       [ 3150],\n",
              "       [ 7000],\n",
              "       [ 5680],\n",
              "       [ 3300],\n",
              "       [ 6420],\n",
              "       [ 4400],\n",
              "       [ 2275],\n",
              "       [ 8400],\n",
              "       [ 4040],\n",
              "       [ 3120],\n",
              "       [ 6440],\n",
              "       [ 6000],\n",
              "       [ 3036],\n",
              "       [ 3450],\n",
              "       [ 2175],\n",
              "       [ 8500],\n",
              "       [ 5900],\n",
              "       [ 5800],\n",
              "       [ 5495],\n",
              "       [ 3520],\n",
              "       [ 6000],\n",
              "       [ 4160],\n",
              "       [ 4040],\n",
              "       [ 4046],\n",
              "       [ 5700],\n",
              "       [ 4840],\n",
              "       [ 9667],\n",
              "       [ 1650],\n",
              "       [ 3850],\n",
              "       [ 5880],\n",
              "       [ 5720],\n",
              "       [ 8250],\n",
              "       [ 4640],\n",
              "       [ 3600],\n",
              "       [ 7000],\n",
              "       [12900],\n",
              "       [ 6600],\n",
              "       [ 2135],\n",
              "       [ 6000],\n",
              "       [ 2640],\n",
              "       [ 2817],\n",
              "       [ 7155],\n",
              "       [ 4410],\n",
              "       [ 4500],\n",
              "       [ 6300],\n",
              "       [ 2145],\n",
              "       [ 5500],\n",
              "       [ 3600],\n",
              "       [ 4260],\n",
              "       [ 3780],\n",
              "       [ 2870],\n",
              "       [ 3420],\n",
              "       [ 8580],\n",
              "       [ 2910],\n",
              "       [ 4000],\n",
              "       [ 2145],\n",
              "       [ 7686],\n",
              "       [ 4510],\n",
              "       [ 7152],\n",
              "       [ 4600],\n",
              "       [ 3240],\n",
              "       [ 3420],\n",
              "       [ 5800],\n",
              "       [ 3150],\n",
              "       [ 4075],\n",
              "       [ 7424],\n",
              "       [ 9000],\n",
              "       [ 3640],\n",
              "       [ 3150],\n",
              "       [ 2145],\n",
              "       [ 8960],\n",
              "       [ 2160],\n",
              "       [ 6550],\n",
              "       [ 7770],\n",
              "       [ 8400],\n",
              "       [10500],\n",
              "       [ 3480],\n",
              "       [ 2787],\n",
              "       [ 3000],\n",
              "       [ 6420],\n",
              "       [ 5200],\n",
              "       [ 6060],\n",
              "       [ 4500],\n",
              "       [ 6100]])"
            ]
          },
          "metadata": {},
          "execution_count": 70
        }
      ],
      "source": [
        "y_test"
      ]
    },
    {
      "cell_type": "markdown",
      "source": [
        "MEASURE THE PERFORMANCE USING METRICS"
      ],
      "metadata": {
        "id": "SFu1E0PIiyj-"
      }
    },
    {
      "cell_type": "code",
      "execution_count": 80,
      "metadata": {
        "id": "AQoPsVP2qEdT",
        "colab": {
          "base_uri": "https://localhost:8080/"
        },
        "outputId": "d2967a7f-2c62-4442-ed55-4730a7a86520"
      },
      "outputs": [
        {
          "output_type": "execute_result",
          "data": {
            "text/plain": [
              "1.0"
            ]
          },
          "metadata": {},
          "execution_count": 80
        }
      ],
      "source": [
        "from sklearn.metrics import r2_score\n",
        "acc=r2_score(y_test,ypred)\n",
        "acc"
      ]
    }
  ],
  "metadata": {
    "colab": {
      "provenance": [],
      "include_colab_link": true
    },
    "kernelspec": {
      "display_name": "Python 3",
      "name": "python3"
    },
    "language_info": {
      "name": "python"
    }
  },
  "nbformat": 4,
  "nbformat_minor": 0
}